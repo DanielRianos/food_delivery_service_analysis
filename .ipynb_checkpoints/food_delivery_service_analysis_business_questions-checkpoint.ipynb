{
 "cells": [
  {
   "cell_type": "markdown",
   "id": "d491a8b8-ab52-4a37-b86a-176ff0a69b8f",
   "metadata": {},
   "source": [
    "## 1. Data Inspection and cleaning"
   ]
  },
  {
   "cell_type": "code",
   "execution_count": 1,
   "id": "6fefea54-126d-4f65-8481-e83a36db2f18",
   "metadata": {},
   "outputs": [],
   "source": [
    "import pandas as pd\n",
    "from pandas import read_excel\n",
    "import numpy as np"
   ]
  },
  {
   "cell_type": "markdown",
   "id": "ed14609e-98dc-4b0f-9168-6dc9883c7936",
   "metadata": {},
   "source": [
    "### Deliverando Dataset"
   ]
  },
  {
   "cell_type": "code",
   "execution_count": 2,
   "id": "e62da760-3ef1-4f63-b511-d0c510f0f905",
   "metadata": {},
   "outputs": [
    {
     "data": {
      "text/html": [
       "<div>\n",
       "<style scoped>\n",
       "    .dataframe tbody tr th:only-of-type {\n",
       "        vertical-align: middle;\n",
       "    }\n",
       "\n",
       "    .dataframe tbody tr th {\n",
       "        vertical-align: top;\n",
       "    }\n",
       "\n",
       "    .dataframe thead th {\n",
       "        text-align: right;\n",
       "    }\n",
       "</style>\n",
       "<table border=\"1\" class=\"dataframe\">\n",
       "  <thead>\n",
       "    <tr style=\"text-align: right;\">\n",
       "      <th></th>\n",
       "      <th>name</th>\n",
       "      <th>zip</th>\n",
       "      <th>kpi</th>\n",
       "      <th>Month 1</th>\n",
       "      <th>Month 2</th>\n",
       "      <th>delivery service</th>\n",
       "    </tr>\n",
       "  </thead>\n",
       "  <tbody>\n",
       "    <tr>\n",
       "      <th>0</th>\n",
       "      <td>Mampf</td>\n",
       "      <td>8020</td>\n",
       "      <td># Commissionable Orders</td>\n",
       "      <td>699.0</td>\n",
       "      <td>822.00</td>\n",
       "      <td>deliverando</td>\n",
       "    </tr>\n",
       "    <tr>\n",
       "      <th>1</th>\n",
       "      <td>Mampf</td>\n",
       "      <td>8020</td>\n",
       "      <td>Avg Basket Size €</td>\n",
       "      <td>22.5</td>\n",
       "      <td>23.33</td>\n",
       "      <td>deliverando</td>\n",
       "    </tr>\n",
       "    <tr>\n",
       "      <th>2</th>\n",
       "      <td>Mampf</td>\n",
       "      <td>8020</td>\n",
       "      <td># Negative Comments</td>\n",
       "      <td>3.0</td>\n",
       "      <td>4.00</td>\n",
       "      <td>deliverando</td>\n",
       "    </tr>\n",
       "    <tr>\n",
       "      <th>3</th>\n",
       "      <td>Mampf</td>\n",
       "      <td>8020</td>\n",
       "      <td># Positive Comments</td>\n",
       "      <td>1.0</td>\n",
       "      <td>1.00</td>\n",
       "      <td>deliverando</td>\n",
       "    </tr>\n",
       "    <tr>\n",
       "      <th>4</th>\n",
       "      <td>Mampf</td>\n",
       "      <td>8020</td>\n",
       "      <td>% Kill Rate</td>\n",
       "      <td>52.0</td>\n",
       "      <td>46.00</td>\n",
       "      <td>deliverando</td>\n",
       "    </tr>\n",
       "  </tbody>\n",
       "</table>\n",
       "</div>"
      ],
      "text/plain": [
       "    name   zip                      kpi  Month 1  Month 2 delivery service\n",
       "0  Mampf  8020  # Commissionable Orders    699.0   822.00      deliverando\n",
       "1  Mampf  8020        Avg Basket Size €     22.5    23.33      deliverando\n",
       "2  Mampf  8020      # Negative Comments      3.0     4.00      deliverando\n",
       "3  Mampf  8020      # Positive Comments      1.0     1.00      deliverando\n",
       "4  Mampf  8020              % Kill Rate     52.0    46.00      deliverando"
      ]
     },
     "execution_count": 2,
     "metadata": {},
     "output_type": "execute_result"
    }
   ],
   "source": [
    "data_1 = pd.read_csv('data_sets/SalesAnalyst_deliverando.csv', delimiter=';')\n",
    "data_1.head()"
   ]
  },
  {
   "cell_type": "code",
   "execution_count": 3,
   "id": "12f44e16-33db-4337-a898-cce5de58da9f",
   "metadata": {},
   "outputs": [
    {
     "data": {
      "text/plain": [
       "name                1648\n",
       "zip                 1648\n",
       "kpi                 1648\n",
       "Month 1             1648\n",
       "Month 2             1648\n",
       "delivery service    1648\n",
       "dtype: int64"
      ]
     },
     "execution_count": 3,
     "metadata": {},
     "output_type": "execute_result"
    }
   ],
   "source": [
    "data_1.count()"
   ]
  },
  {
   "cell_type": "code",
   "execution_count": 4,
   "id": "0118b687-9584-4087-a5a1-e746ed91fefa",
   "metadata": {},
   "outputs": [
    {
     "data": {
      "text/plain": [
       "Index(['name', 'zip', 'kpi', 'Month 1', 'Month 2', 'delivery service'], dtype='object')"
      ]
     },
     "execution_count": 4,
     "metadata": {},
     "output_type": "execute_result"
    }
   ],
   "source": [
    "data_1.columns"
   ]
  },
  {
   "cell_type": "code",
   "execution_count": 5,
   "id": "2c1f9c0c-ae06-4510-a6f2-1a363ca0513c",
   "metadata": {},
   "outputs": [
    {
     "name": "stdout",
     "output_type": "stream",
     "text": [
      "<class 'pandas.core.frame.DataFrame'>\n",
      "RangeIndex: 1648 entries, 0 to 1647\n",
      "Data columns (total 6 columns):\n",
      " #   Column            Non-Null Count  Dtype  \n",
      "---  ------            --------------  -----  \n",
      " 0   name              1648 non-null   object \n",
      " 1   zip               1648 non-null   int64  \n",
      " 2   kpi               1648 non-null   object \n",
      " 3   Month 1           1648 non-null   float64\n",
      " 4   Month 2           1648 non-null   float64\n",
      " 5   delivery service  1648 non-null   object \n",
      "dtypes: float64(2), int64(1), object(3)\n",
      "memory usage: 77.4+ KB\n"
     ]
    }
   ],
   "source": [
    "data_1.info()"
   ]
  },
  {
   "cell_type": "code",
   "execution_count": 6,
   "id": "5efb89a3-e0c8-4403-8ee4-044e17797b33",
   "metadata": {},
   "outputs": [
    {
     "data": {
      "text/plain": [
       "array(['# Commissionable Orders', 'Avg Basket Size €',\n",
       "       '# Negative Comments', '# Positive Comments', '% Kill Rate',\n",
       "       'Avg Time to Accept (s)'], dtype=object)"
      ]
     },
     "execution_count": 6,
     "metadata": {},
     "output_type": "execute_result"
    }
   ],
   "source": [
    "data_1['kpi'].unique()"
   ]
  },
  {
   "cell_type": "code",
   "execution_count": 7,
   "id": "7cc9499d-fcf5-44b8-9814-64228449ad4e",
   "metadata": {},
   "outputs": [
    {
     "data": {
      "text/plain": [
       "name                0\n",
       "zip                 0\n",
       "kpi                 0\n",
       "Month 1             0\n",
       "Month 2             0\n",
       "delivery service    0\n",
       "dtype: int64"
      ]
     },
     "execution_count": 7,
     "metadata": {},
     "output_type": "execute_result"
    }
   ],
   "source": [
    "data_1.isnull().sum()"
   ]
  },
  {
   "cell_type": "code",
   "execution_count": 8,
   "id": "0b28c755-627f-40f1-aa6e-f25e6633d4d3",
   "metadata": {},
   "outputs": [],
   "source": [
    "data_1_orders= data_1.loc[data_1['kpi']=='# Commissionable Orders']"
   ]
  },
  {
   "cell_type": "code",
   "execution_count": 9,
   "id": "f5b85d0e-129a-4f17-a829-49b0d167c991",
   "metadata": {},
   "outputs": [
    {
     "data": {
      "text/html": [
       "<div>\n",
       "<style scoped>\n",
       "    .dataframe tbody tr th:only-of-type {\n",
       "        vertical-align: middle;\n",
       "    }\n",
       "\n",
       "    .dataframe tbody tr th {\n",
       "        vertical-align: top;\n",
       "    }\n",
       "\n",
       "    .dataframe thead th {\n",
       "        text-align: right;\n",
       "    }\n",
       "</style>\n",
       "<table border=\"1\" class=\"dataframe\">\n",
       "  <thead>\n",
       "    <tr style=\"text-align: right;\">\n",
       "      <th></th>\n",
       "      <th>name</th>\n",
       "      <th>zip</th>\n",
       "      <th>kpi</th>\n",
       "      <th>Month 1</th>\n",
       "      <th>Month 2</th>\n",
       "      <th>delivery service</th>\n",
       "    </tr>\n",
       "  </thead>\n",
       "  <tbody>\n",
       "    <tr>\n",
       "      <th>0</th>\n",
       "      <td>Mampf</td>\n",
       "      <td>8020</td>\n",
       "      <td># Commissionable Orders</td>\n",
       "      <td>699.0</td>\n",
       "      <td>822.0</td>\n",
       "      <td>deliverando</td>\n",
       "    </tr>\n",
       "    <tr>\n",
       "      <th>6</th>\n",
       "      <td>Dolce Vita</td>\n",
       "      <td>8020</td>\n",
       "      <td># Commissionable Orders</td>\n",
       "      <td>1178.0</td>\n",
       "      <td>1353.0</td>\n",
       "      <td>deliverando</td>\n",
       "    </tr>\n",
       "    <tr>\n",
       "      <th>12</th>\n",
       "      <td>China Restaurant Mond</td>\n",
       "      <td>8010</td>\n",
       "      <td># Commissionable Orders</td>\n",
       "      <td>230.0</td>\n",
       "      <td>375.0</td>\n",
       "      <td>deliverando</td>\n",
       "    </tr>\n",
       "    <tr>\n",
       "      <th>18</th>\n",
       "      <td>Royal</td>\n",
       "      <td>8020</td>\n",
       "      <td># Commissionable Orders</td>\n",
       "      <td>692.0</td>\n",
       "      <td>734.0</td>\n",
       "      <td>deliverando</td>\n",
       "    </tr>\n",
       "    <tr>\n",
       "      <th>24</th>\n",
       "      <td>Xpress</td>\n",
       "      <td>8020</td>\n",
       "      <td># Commissionable Orders</td>\n",
       "      <td>365.0</td>\n",
       "      <td>410.0</td>\n",
       "      <td>deliverando</td>\n",
       "    </tr>\n",
       "  </tbody>\n",
       "</table>\n",
       "</div>"
      ],
      "text/plain": [
       "                     name   zip                      kpi  Month 1  Month 2  \\\n",
       "0                   Mampf  8020  # Commissionable Orders    699.0    822.0   \n",
       "6              Dolce Vita  8020  # Commissionable Orders   1178.0   1353.0   \n",
       "12  China Restaurant Mond  8010  # Commissionable Orders    230.0    375.0   \n",
       "18                  Royal  8020  # Commissionable Orders    692.0    734.0   \n",
       "24                 Xpress  8020  # Commissionable Orders    365.0    410.0   \n",
       "\n",
       "   delivery service  \n",
       "0       deliverando  \n",
       "6       deliverando  \n",
       "12      deliverando  \n",
       "18      deliverando  \n",
       "24      deliverando  "
      ]
     },
     "execution_count": 9,
     "metadata": {},
     "output_type": "execute_result"
    }
   ],
   "source": [
    "data_1_orders.head()"
   ]
  },
  {
   "cell_type": "code",
   "execution_count": 10,
   "id": "9f00ee96-aecd-4357-b585-a61715826a21",
   "metadata": {
    "tags": []
   },
   "outputs": [
    {
     "name": "stdout",
     "output_type": "stream",
     "text": [
      "<class 'pandas.core.frame.DataFrame'>\n",
      "Int64Index: 335 entries, 0 to 1645\n",
      "Data columns (total 6 columns):\n",
      " #   Column            Non-Null Count  Dtype  \n",
      "---  ------            --------------  -----  \n",
      " 0   name              335 non-null    object \n",
      " 1   zip               335 non-null    int64  \n",
      " 2   kpi               335 non-null    object \n",
      " 3   Month 1           335 non-null    float64\n",
      " 4   Month 2           335 non-null    float64\n",
      " 5   delivery service  335 non-null    object \n",
      "dtypes: float64(2), int64(1), object(3)\n",
      "memory usage: 18.3+ KB\n"
     ]
    }
   ],
   "source": [
    "data_1_orders.info()"
   ]
  },
  {
   "cell_type": "code",
   "execution_count": 11,
   "id": "f3002a73-85a1-4da7-aaec-d956c672926e",
   "metadata": {},
   "outputs": [
    {
     "data": {
      "text/plain": [
       "0"
      ]
     },
     "execution_count": 11,
     "metadata": {},
     "output_type": "execute_result"
    }
   ],
   "source": [
    "data_1_orders.duplicated().sum()"
   ]
  },
  {
   "cell_type": "code",
   "execution_count": 12,
   "id": "83dfaf32-255f-4908-8c0d-d9be6e6a46fc",
   "metadata": {
    "collapsed": true,
    "jupyter": {
     "outputs_hidden": true
    },
    "tags": []
   },
   "outputs": [
    {
     "name": "stderr",
     "output_type": "stream",
     "text": [
      "/var/folders/yq/6pm1lcds6ln5qlsjc5y8fly00000gn/T/ipykernel_5879/3894230365.py:1: SettingWithCopyWarning: \n",
      "A value is trying to be set on a copy of a slice from a DataFrame.\n",
      "Try using .loc[row_indexer,col_indexer] = value instead\n",
      "\n",
      "See the caveats in the documentation: https://pandas.pydata.org/pandas-docs/stable/user_guide/indexing.html#returning-a-view-versus-a-copy\n",
      "  data_1_orders['total_orders']= data_1['Month 1'] + data_1['Month 2']\n"
     ]
    }
   ],
   "source": [
    "data_1_orders['total_orders']= data_1['Month 1'] + data_1['Month 2']"
   ]
  },
  {
   "cell_type": "code",
   "execution_count": 13,
   "id": "a65bcd1c-421b-41f6-8d56-12cb6075b2c7",
   "metadata": {},
   "outputs": [
    {
     "data": {
      "text/html": [
       "<div>\n",
       "<style scoped>\n",
       "    .dataframe tbody tr th:only-of-type {\n",
       "        vertical-align: middle;\n",
       "    }\n",
       "\n",
       "    .dataframe tbody tr th {\n",
       "        vertical-align: top;\n",
       "    }\n",
       "\n",
       "    .dataframe thead th {\n",
       "        text-align: right;\n",
       "    }\n",
       "</style>\n",
       "<table border=\"1\" class=\"dataframe\">\n",
       "  <thead>\n",
       "    <tr style=\"text-align: right;\">\n",
       "      <th></th>\n",
       "      <th>name</th>\n",
       "      <th>zip</th>\n",
       "      <th>kpi</th>\n",
       "      <th>Month 1</th>\n",
       "      <th>Month 2</th>\n",
       "      <th>delivery service</th>\n",
       "      <th>total_orders</th>\n",
       "    </tr>\n",
       "  </thead>\n",
       "  <tbody>\n",
       "    <tr>\n",
       "      <th>0</th>\n",
       "      <td>Mampf</td>\n",
       "      <td>8020</td>\n",
       "      <td># Commissionable Orders</td>\n",
       "      <td>699.0</td>\n",
       "      <td>822.0</td>\n",
       "      <td>deliverando</td>\n",
       "      <td>1521.0</td>\n",
       "    </tr>\n",
       "    <tr>\n",
       "      <th>6</th>\n",
       "      <td>Dolce Vita</td>\n",
       "      <td>8020</td>\n",
       "      <td># Commissionable Orders</td>\n",
       "      <td>1178.0</td>\n",
       "      <td>1353.0</td>\n",
       "      <td>deliverando</td>\n",
       "      <td>2531.0</td>\n",
       "    </tr>\n",
       "    <tr>\n",
       "      <th>12</th>\n",
       "      <td>China Restaurant Mond</td>\n",
       "      <td>8010</td>\n",
       "      <td># Commissionable Orders</td>\n",
       "      <td>230.0</td>\n",
       "      <td>375.0</td>\n",
       "      <td>deliverando</td>\n",
       "      <td>605.0</td>\n",
       "    </tr>\n",
       "    <tr>\n",
       "      <th>18</th>\n",
       "      <td>Royal</td>\n",
       "      <td>8020</td>\n",
       "      <td># Commissionable Orders</td>\n",
       "      <td>692.0</td>\n",
       "      <td>734.0</td>\n",
       "      <td>deliverando</td>\n",
       "      <td>1426.0</td>\n",
       "    </tr>\n",
       "    <tr>\n",
       "      <th>24</th>\n",
       "      <td>Xpress</td>\n",
       "      <td>8020</td>\n",
       "      <td># Commissionable Orders</td>\n",
       "      <td>365.0</td>\n",
       "      <td>410.0</td>\n",
       "      <td>deliverando</td>\n",
       "      <td>775.0</td>\n",
       "    </tr>\n",
       "    <tr>\n",
       "      <th>...</th>\n",
       "      <td>...</td>\n",
       "      <td>...</td>\n",
       "      <td>...</td>\n",
       "      <td>...</td>\n",
       "      <td>...</td>\n",
       "      <td>...</td>\n",
       "      <td>...</td>\n",
       "    </tr>\n",
       "    <tr>\n",
       "      <th>1633</th>\n",
       "      <td>Gasthof zum Bayernbrunnen</td>\n",
       "      <td>8020</td>\n",
       "      <td># Commissionable Orders</td>\n",
       "      <td>0.0</td>\n",
       "      <td>0.0</td>\n",
       "      <td>deliverando</td>\n",
       "      <td>0.0</td>\n",
       "    </tr>\n",
       "    <tr>\n",
       "      <th>1636</th>\n",
       "      <td>Ucco's</td>\n",
       "      <td>8010</td>\n",
       "      <td># Commissionable Orders</td>\n",
       "      <td>0.0</td>\n",
       "      <td>0.0</td>\n",
       "      <td>deliverando</td>\n",
       "      <td>0.0</td>\n",
       "    </tr>\n",
       "    <tr>\n",
       "      <th>1639</th>\n",
       "      <td>Wir:zhaus</td>\n",
       "      <td>8020</td>\n",
       "      <td># Commissionable Orders</td>\n",
       "      <td>0.0</td>\n",
       "      <td>0.0</td>\n",
       "      <td>deliverando</td>\n",
       "      <td>0.0</td>\n",
       "    </tr>\n",
       "    <tr>\n",
       "      <th>1642</th>\n",
       "      <td>Namaste Nepal Restaurant</td>\n",
       "      <td>8010</td>\n",
       "      <td># Commissionable Orders</td>\n",
       "      <td>0.0</td>\n",
       "      <td>0.0</td>\n",
       "      <td>deliverando</td>\n",
       "      <td>0.0</td>\n",
       "    </tr>\n",
       "    <tr>\n",
       "      <th>1645</th>\n",
       "      <td>Easy Asia</td>\n",
       "      <td>8020</td>\n",
       "      <td># Commissionable Orders</td>\n",
       "      <td>0.0</td>\n",
       "      <td>0.0</td>\n",
       "      <td>deliverando</td>\n",
       "      <td>0.0</td>\n",
       "    </tr>\n",
       "  </tbody>\n",
       "</table>\n",
       "<p>335 rows × 7 columns</p>\n",
       "</div>"
      ],
      "text/plain": [
       "                           name   zip                      kpi  Month 1  \\\n",
       "0                         Mampf  8020  # Commissionable Orders    699.0   \n",
       "6                    Dolce Vita  8020  # Commissionable Orders   1178.0   \n",
       "12        China Restaurant Mond  8010  # Commissionable Orders    230.0   \n",
       "18                        Royal  8020  # Commissionable Orders    692.0   \n",
       "24                       Xpress  8020  # Commissionable Orders    365.0   \n",
       "...                         ...   ...                      ...      ...   \n",
       "1633  Gasthof zum Bayernbrunnen  8020  # Commissionable Orders      0.0   \n",
       "1636                     Ucco's  8010  # Commissionable Orders      0.0   \n",
       "1639                  Wir:zhaus  8020  # Commissionable Orders      0.0   \n",
       "1642   Namaste Nepal Restaurant  8010  # Commissionable Orders      0.0   \n",
       "1645                  Easy Asia  8020  # Commissionable Orders      0.0   \n",
       "\n",
       "      Month 2 delivery service  total_orders  \n",
       "0       822.0      deliverando        1521.0  \n",
       "6      1353.0      deliverando        2531.0  \n",
       "12      375.0      deliverando         605.0  \n",
       "18      734.0      deliverando        1426.0  \n",
       "24      410.0      deliverando         775.0  \n",
       "...       ...              ...           ...  \n",
       "1633      0.0      deliverando           0.0  \n",
       "1636      0.0      deliverando           0.0  \n",
       "1639      0.0      deliverando           0.0  \n",
       "1642      0.0      deliverando           0.0  \n",
       "1645      0.0      deliverando           0.0  \n",
       "\n",
       "[335 rows x 7 columns]"
      ]
     },
     "execution_count": 13,
     "metadata": {},
     "output_type": "execute_result"
    }
   ],
   "source": [
    "data_1_orders"
   ]
  },
  {
   "cell_type": "markdown",
   "id": "80d8a4c7-f2cf-47ce-84a1-db44d5da9849",
   "metadata": {},
   "source": [
    "### Competition Dataset\n"
   ]
  },
  {
   "cell_type": "markdown",
   "id": "9a259273-d526-490e-95f4-266560c5f46a",
   "metadata": {},
   "source": [
    "#### Sheet 1"
   ]
  },
  {
   "cell_type": "code",
   "execution_count": 14,
   "id": "688afc60-5e8c-4b6a-b0a0-397dd4e0a119",
   "metadata": {
    "tags": []
   },
   "outputs": [
    {
     "data": {
      "text/html": [
       "<div>\n",
       "<style scoped>\n",
       "    .dataframe tbody tr th:only-of-type {\n",
       "        vertical-align: middle;\n",
       "    }\n",
       "\n",
       "    .dataframe tbody tr th {\n",
       "        vertical-align: top;\n",
       "    }\n",
       "\n",
       "    .dataframe thead th {\n",
       "        text-align: right;\n",
       "    }\n",
       "</style>\n",
       "<table border=\"1\" class=\"dataframe\">\n",
       "  <thead>\n",
       "    <tr style=\"text-align: right;\">\n",
       "      <th></th>\n",
       "      <th>name</th>\n",
       "      <th>zip</th>\n",
       "      <th>orders</th>\n",
       "      <th>month</th>\n",
       "      <th>delivery_service</th>\n",
       "    </tr>\n",
       "  </thead>\n",
       "  <tbody>\n",
       "    <tr>\n",
       "      <th>0</th>\n",
       "      <td>Chen's Cooking</td>\n",
       "      <td>1120.0</td>\n",
       "      <td>575.0</td>\n",
       "      <td>1.0</td>\n",
       "      <td>competition</td>\n",
       "    </tr>\n",
       "    <tr>\n",
       "      <th>1</th>\n",
       "      <td>Al Capone</td>\n",
       "      <td>4614.0</td>\n",
       "      <td>283.0</td>\n",
       "      <td>1.0</td>\n",
       "      <td>competition</td>\n",
       "    </tr>\n",
       "    <tr>\n",
       "      <th>2</th>\n",
       "      <td>Schesch Besch</td>\n",
       "      <td>1010.0</td>\n",
       "      <td>43.0</td>\n",
       "      <td>1.0</td>\n",
       "      <td>competition</td>\n",
       "    </tr>\n",
       "    <tr>\n",
       "      <th>3</th>\n",
       "      <td>Gasthaus Bergwirt</td>\n",
       "      <td>4053.0</td>\n",
       "      <td>1054.0</td>\n",
       "      <td>1.0</td>\n",
       "      <td>competition</td>\n",
       "    </tr>\n",
       "    <tr>\n",
       "      <th>4</th>\n",
       "      <td>Kebap &amp; Pizza Antalya</td>\n",
       "      <td>9020.0</td>\n",
       "      <td>168.0</td>\n",
       "      <td>1.0</td>\n",
       "      <td>competition</td>\n",
       "    </tr>\n",
       "  </tbody>\n",
       "</table>\n",
       "</div>"
      ],
      "text/plain": [
       "                    name     zip  orders  month delivery_service\n",
       "0         Chen's Cooking  1120.0   575.0    1.0      competition\n",
       "1              Al Capone  4614.0   283.0    1.0      competition\n",
       "2          Schesch Besch  1010.0    43.0    1.0      competition\n",
       "3      Gasthaus Bergwirt  4053.0  1054.0    1.0      competition\n",
       "4  Kebap & Pizza Antalya  9020.0   168.0    1.0      competition"
      ]
     },
     "execution_count": 14,
     "metadata": {},
     "output_type": "execute_result"
    }
   ],
   "source": [
    "data_sheet1 = pd.read_excel('data_sets/SalesAnalyst_Competition.xlsx')\n",
    "data_sheet1.head()"
   ]
  },
  {
   "cell_type": "code",
   "execution_count": 15,
   "id": "ee5b9f86-c088-4859-a481-38dc294c8a9e",
   "metadata": {},
   "outputs": [
    {
     "data": {
      "text/plain": [
       "Index(['name', 'zip', 'orders', 'month', 'delivery_service'], dtype='object')"
      ]
     },
     "execution_count": 15,
     "metadata": {},
     "output_type": "execute_result"
    }
   ],
   "source": [
    "data_sheet1.columns"
   ]
  },
  {
   "cell_type": "code",
   "execution_count": 16,
   "id": "53e441dc-6c9b-4d76-9a29-97f4fbc74828",
   "metadata": {},
   "outputs": [
    {
     "name": "stdout",
     "output_type": "stream",
     "text": [
      "<class 'pandas.core.frame.DataFrame'>\n",
      "RangeIndex: 3207 entries, 0 to 3206\n",
      "Data columns (total 5 columns):\n",
      " #   Column            Non-Null Count  Dtype  \n",
      "---  ------            --------------  -----  \n",
      " 0   name              3207 non-null   object \n",
      " 1   zip               3207 non-null   float64\n",
      " 2   orders            3207 non-null   float64\n",
      " 3   month             3207 non-null   float64\n",
      " 4   delivery_service  3207 non-null   object \n",
      "dtypes: float64(3), object(2)\n",
      "memory usage: 125.4+ KB\n"
     ]
    }
   ],
   "source": [
    "data_sheet1.info()"
   ]
  },
  {
   "cell_type": "code",
   "execution_count": 17,
   "id": "381d3500-6824-44d5-8b02-db515b93f976",
   "metadata": {},
   "outputs": [],
   "source": [
    "data_2= data_sheet1.astype({'zip': int, 'orders': int, 'month': int },copy=False)"
   ]
  },
  {
   "cell_type": "code",
   "execution_count": 18,
   "id": "a1db7ae9-96e2-48fc-844a-50a7e30b64da",
   "metadata": {},
   "outputs": [
    {
     "name": "stdout",
     "output_type": "stream",
     "text": [
      "<class 'pandas.core.frame.DataFrame'>\n",
      "RangeIndex: 3207 entries, 0 to 3206\n",
      "Data columns (total 5 columns):\n",
      " #   Column            Non-Null Count  Dtype \n",
      "---  ------            --------------  ----- \n",
      " 0   name              3207 non-null   object\n",
      " 1   zip               3207 non-null   int64 \n",
      " 2   orders            3207 non-null   int64 \n",
      " 3   month             3207 non-null   int64 \n",
      " 4   delivery_service  3207 non-null   object\n",
      "dtypes: int64(3), object(2)\n",
      "memory usage: 125.4+ KB\n"
     ]
    }
   ],
   "source": [
    "data_2.info()"
   ]
  },
  {
   "cell_type": "code",
   "execution_count": 19,
   "id": "ef62ce62-d5a1-4917-b2b4-9df9bac63974",
   "metadata": {},
   "outputs": [
    {
     "data": {
      "text/plain": [
       "name                0\n",
       "zip                 0\n",
       "orders              0\n",
       "month               0\n",
       "delivery_service    0\n",
       "dtype: int64"
      ]
     },
     "execution_count": 19,
     "metadata": {},
     "output_type": "execute_result"
    }
   ],
   "source": [
    "data_2.isnull().sum()"
   ]
  },
  {
   "cell_type": "code",
   "execution_count": 20,
   "id": "29a3f5a6-d470-4bf6-b3c5-d10e54643019",
   "metadata": {
    "tags": []
   },
   "outputs": [
    {
     "data": {
      "text/html": [
       "<div>\n",
       "<style scoped>\n",
       "    .dataframe tbody tr th:only-of-type {\n",
       "        vertical-align: middle;\n",
       "    }\n",
       "\n",
       "    .dataframe tbody tr th {\n",
       "        vertical-align: top;\n",
       "    }\n",
       "\n",
       "    .dataframe thead th {\n",
       "        text-align: right;\n",
       "    }\n",
       "</style>\n",
       "<table border=\"1\" class=\"dataframe\">\n",
       "  <thead>\n",
       "    <tr style=\"text-align: right;\">\n",
       "      <th></th>\n",
       "      <th>name</th>\n",
       "      <th>zip</th>\n",
       "      <th>orders</th>\n",
       "      <th>month</th>\n",
       "      <th>delivery_service</th>\n",
       "    </tr>\n",
       "  </thead>\n",
       "  <tbody>\n",
       "    <tr>\n",
       "      <th>153</th>\n",
       "      <td>Wiener Schnitzelland</td>\n",
       "      <td>1220</td>\n",
       "      <td>87</td>\n",
       "      <td>1</td>\n",
       "      <td>competition</td>\n",
       "    </tr>\n",
       "    <tr>\n",
       "      <th>165</th>\n",
       "      <td>Tasties</td>\n",
       "      <td>6020</td>\n",
       "      <td>1</td>\n",
       "      <td>1</td>\n",
       "      <td>competition</td>\n",
       "    </tr>\n",
       "    <tr>\n",
       "      <th>226</th>\n",
       "      <td>McDonald's®</td>\n",
       "      <td>4020</td>\n",
       "      <td>507</td>\n",
       "      <td>1</td>\n",
       "      <td>competition</td>\n",
       "    </tr>\n",
       "    <tr>\n",
       "      <th>421</th>\n",
       "      <td>Burgerista</td>\n",
       "      <td>1150</td>\n",
       "      <td>439</td>\n",
       "      <td>1</td>\n",
       "      <td>competition</td>\n",
       "    </tr>\n",
       "    <tr>\n",
       "      <th>867</th>\n",
       "      <td>McDonald's®</td>\n",
       "      <td>6020</td>\n",
       "      <td>165</td>\n",
       "      <td>1</td>\n",
       "      <td>competition</td>\n",
       "    </tr>\n",
       "    <tr>\n",
       "      <th>942</th>\n",
       "      <td>NORDSEE</td>\n",
       "      <td>1010</td>\n",
       "      <td>2</td>\n",
       "      <td>1</td>\n",
       "      <td>competition</td>\n",
       "    </tr>\n",
       "    <tr>\n",
       "      <th>1073</th>\n",
       "      <td>McDonald's®</td>\n",
       "      <td>6020</td>\n",
       "      <td>288</td>\n",
       "      <td>1</td>\n",
       "      <td>competition</td>\n",
       "    </tr>\n",
       "    <tr>\n",
       "      <th>1087</th>\n",
       "      <td>Wiener Schnitzelland</td>\n",
       "      <td>1220</td>\n",
       "      <td>616</td>\n",
       "      <td>1</td>\n",
       "      <td>competition</td>\n",
       "    </tr>\n",
       "    <tr>\n",
       "      <th>1174</th>\n",
       "      <td>McDonald's®</td>\n",
       "      <td>9020</td>\n",
       "      <td>370</td>\n",
       "      <td>1</td>\n",
       "      <td>competition</td>\n",
       "    </tr>\n",
       "    <tr>\n",
       "      <th>1245</th>\n",
       "      <td>McDonald's®</td>\n",
       "      <td>9020</td>\n",
       "      <td>84</td>\n",
       "      <td>1</td>\n",
       "      <td>competition</td>\n",
       "    </tr>\n",
       "    <tr>\n",
       "      <th>1317</th>\n",
       "      <td>Rosamunde Kebap</td>\n",
       "      <td>8010</td>\n",
       "      <td>129</td>\n",
       "      <td>1</td>\n",
       "      <td>competition</td>\n",
       "    </tr>\n",
       "    <tr>\n",
       "      <th>1330</th>\n",
       "      <td>NORDSEE</td>\n",
       "      <td>1010</td>\n",
       "      <td>8</td>\n",
       "      <td>1</td>\n",
       "      <td>competition</td>\n",
       "    </tr>\n",
       "    <tr>\n",
       "      <th>1672</th>\n",
       "      <td>McDonald's®</td>\n",
       "      <td>4020</td>\n",
       "      <td>406</td>\n",
       "      <td>1</td>\n",
       "      <td>competition</td>\n",
       "    </tr>\n",
       "    <tr>\n",
       "      <th>1848</th>\n",
       "      <td>Die Bausatz Lokale</td>\n",
       "      <td>8010</td>\n",
       "      <td>2</td>\n",
       "      <td>1</td>\n",
       "      <td>competition</td>\n",
       "    </tr>\n",
       "    <tr>\n",
       "      <th>1929</th>\n",
       "      <td>NORDSEE</td>\n",
       "      <td>6020</td>\n",
       "      <td>8</td>\n",
       "      <td>1</td>\n",
       "      <td>competition</td>\n",
       "    </tr>\n",
       "    <tr>\n",
       "      <th>2135</th>\n",
       "      <td>McDonald's®</td>\n",
       "      <td>9020</td>\n",
       "      <td>44</td>\n",
       "      <td>1</td>\n",
       "      <td>competition</td>\n",
       "    </tr>\n",
       "    <tr>\n",
       "      <th>2178</th>\n",
       "      <td>Fresh One Pot Kitchen</td>\n",
       "      <td>1010</td>\n",
       "      <td>1</td>\n",
       "      <td>1</td>\n",
       "      <td>competition</td>\n",
       "    </tr>\n",
       "    <tr>\n",
       "      <th>2196</th>\n",
       "      <td>McDonald's®</td>\n",
       "      <td>1100</td>\n",
       "      <td>264</td>\n",
       "      <td>1</td>\n",
       "      <td>competition</td>\n",
       "    </tr>\n",
       "    <tr>\n",
       "      <th>2208</th>\n",
       "      <td>McDonald's®</td>\n",
       "      <td>8010</td>\n",
       "      <td>166</td>\n",
       "      <td>1</td>\n",
       "      <td>competition</td>\n",
       "    </tr>\n",
       "    <tr>\n",
       "      <th>2267</th>\n",
       "      <td>Schnitzel Man</td>\n",
       "      <td>1120</td>\n",
       "      <td>723</td>\n",
       "      <td>1</td>\n",
       "      <td>competition</td>\n",
       "    </tr>\n",
       "    <tr>\n",
       "      <th>2286</th>\n",
       "      <td>Burger King</td>\n",
       "      <td>1100</td>\n",
       "      <td>171</td>\n",
       "      <td>1</td>\n",
       "      <td>competition</td>\n",
       "    </tr>\n",
       "    <tr>\n",
       "      <th>2310</th>\n",
       "      <td>McDonald's®</td>\n",
       "      <td>1090</td>\n",
       "      <td>291</td>\n",
       "      <td>1</td>\n",
       "      <td>competition</td>\n",
       "    </tr>\n",
       "    <tr>\n",
       "      <th>2312</th>\n",
       "      <td>McDonald's®</td>\n",
       "      <td>5020</td>\n",
       "      <td>526</td>\n",
       "      <td>1</td>\n",
       "      <td>competition</td>\n",
       "    </tr>\n",
       "    <tr>\n",
       "      <th>2361</th>\n",
       "      <td>McDonald's®</td>\n",
       "      <td>8020</td>\n",
       "      <td>371</td>\n",
       "      <td>1</td>\n",
       "      <td>competition</td>\n",
       "    </tr>\n",
       "    <tr>\n",
       "      <th>2403</th>\n",
       "      <td>Yamamoto</td>\n",
       "      <td>8010</td>\n",
       "      <td>2</td>\n",
       "      <td>1</td>\n",
       "      <td>competition</td>\n",
       "    </tr>\n",
       "    <tr>\n",
       "      <th>2420</th>\n",
       "      <td>Aydin Bäckerei</td>\n",
       "      <td>6020</td>\n",
       "      <td>2</td>\n",
       "      <td>1</td>\n",
       "      <td>competition</td>\n",
       "    </tr>\n",
       "    <tr>\n",
       "      <th>2453</th>\n",
       "      <td>McDonald's®</td>\n",
       "      <td>1010</td>\n",
       "      <td>583</td>\n",
       "      <td>1</td>\n",
       "      <td>competition</td>\n",
       "    </tr>\n",
       "    <tr>\n",
       "      <th>2516</th>\n",
       "      <td>Som Kitchen</td>\n",
       "      <td>1100</td>\n",
       "      <td>83</td>\n",
       "      <td>1</td>\n",
       "      <td>competition</td>\n",
       "    </tr>\n",
       "    <tr>\n",
       "      <th>2529</th>\n",
       "      <td>McDonald's®</td>\n",
       "      <td>6020</td>\n",
       "      <td>163</td>\n",
       "      <td>1</td>\n",
       "      <td>competition</td>\n",
       "    </tr>\n",
       "    <tr>\n",
       "      <th>2544</th>\n",
       "      <td>Burger King</td>\n",
       "      <td>8010</td>\n",
       "      <td>41</td>\n",
       "      <td>1</td>\n",
       "      <td>competition</td>\n",
       "    </tr>\n",
       "    <tr>\n",
       "      <th>2568</th>\n",
       "      <td>ACASA</td>\n",
       "      <td>6020</td>\n",
       "      <td>769</td>\n",
       "      <td>1</td>\n",
       "      <td>competition</td>\n",
       "    </tr>\n",
       "    <tr>\n",
       "      <th>2598</th>\n",
       "      <td>Subway</td>\n",
       "      <td>8020</td>\n",
       "      <td>9</td>\n",
       "      <td>1</td>\n",
       "      <td>competition</td>\n",
       "    </tr>\n",
       "    <tr>\n",
       "      <th>2616</th>\n",
       "      <td>Subway</td>\n",
       "      <td>4020</td>\n",
       "      <td>292</td>\n",
       "      <td>1</td>\n",
       "      <td>competition</td>\n",
       "    </tr>\n",
       "    <tr>\n",
       "      <th>2703</th>\n",
       "      <td>McDonald's®</td>\n",
       "      <td>1100</td>\n",
       "      <td>128</td>\n",
       "      <td>1</td>\n",
       "      <td>competition</td>\n",
       "    </tr>\n",
       "    <tr>\n",
       "      <th>2881</th>\n",
       "      <td>Juice Factory</td>\n",
       "      <td>1010</td>\n",
       "      <td>44</td>\n",
       "      <td>1</td>\n",
       "      <td>competition</td>\n",
       "    </tr>\n",
       "    <tr>\n",
       "      <th>3079</th>\n",
       "      <td>NORDSEE</td>\n",
       "      <td>1150</td>\n",
       "      <td>45</td>\n",
       "      <td>1</td>\n",
       "      <td>competition</td>\n",
       "    </tr>\n",
       "    <tr>\n",
       "      <th>3087</th>\n",
       "      <td>NORDSEE</td>\n",
       "      <td>5020</td>\n",
       "      <td>5</td>\n",
       "      <td>1</td>\n",
       "      <td>competition</td>\n",
       "    </tr>\n",
       "    <tr>\n",
       "      <th>3103</th>\n",
       "      <td>McDonald's®</td>\n",
       "      <td>1020</td>\n",
       "      <td>9</td>\n",
       "      <td>1</td>\n",
       "      <td>competition</td>\n",
       "    </tr>\n",
       "    <tr>\n",
       "      <th>3166</th>\n",
       "      <td>McDonald's®</td>\n",
       "      <td>1110</td>\n",
       "      <td>292</td>\n",
       "      <td>1</td>\n",
       "      <td>competition</td>\n",
       "    </tr>\n",
       "  </tbody>\n",
       "</table>\n",
       "</div>"
      ],
      "text/plain": [
       "                       name   zip  orders  month delivery_service\n",
       "153    Wiener Schnitzelland  1220      87      1      competition\n",
       "165                 Tasties  6020       1      1      competition\n",
       "226             McDonald's®  4020     507      1      competition\n",
       "421              Burgerista  1150     439      1      competition\n",
       "867             McDonald's®  6020     165      1      competition\n",
       "942                 NORDSEE  1010       2      1      competition\n",
       "1073            McDonald's®  6020     288      1      competition\n",
       "1087   Wiener Schnitzelland  1220     616      1      competition\n",
       "1174            McDonald's®  9020     370      1      competition\n",
       "1245            McDonald's®  9020      84      1      competition\n",
       "1317        Rosamunde Kebap  8010     129      1      competition\n",
       "1330                NORDSEE  1010       8      1      competition\n",
       "1672            McDonald's®  4020     406      1      competition\n",
       "1848     Die Bausatz Lokale  8010       2      1      competition\n",
       "1929                NORDSEE  6020       8      1      competition\n",
       "2135            McDonald's®  9020      44      1      competition\n",
       "2178  Fresh One Pot Kitchen  1010       1      1      competition\n",
       "2196            McDonald's®  1100     264      1      competition\n",
       "2208            McDonald's®  8010     166      1      competition\n",
       "2267          Schnitzel Man  1120     723      1      competition\n",
       "2286            Burger King  1100     171      1      competition\n",
       "2310            McDonald's®  1090     291      1      competition\n",
       "2312            McDonald's®  5020     526      1      competition\n",
       "2361            McDonald's®  8020     371      1      competition\n",
       "2403               Yamamoto  8010       2      1      competition\n",
       "2420         Aydin Bäckerei  6020       2      1      competition\n",
       "2453            McDonald's®  1010     583      1      competition\n",
       "2516            Som Kitchen  1100      83      1      competition\n",
       "2529            McDonald's®  6020     163      1      competition\n",
       "2544            Burger King  8010      41      1      competition\n",
       "2568                  ACASA  6020     769      1      competition\n",
       "2598                 Subway  8020       9      1      competition\n",
       "2616                 Subway  4020     292      1      competition\n",
       "2703            McDonald's®  1100     128      1      competition\n",
       "2881          Juice Factory  1010      44      1      competition\n",
       "3079                NORDSEE  1150      45      1      competition\n",
       "3087                NORDSEE  5020       5      1      competition\n",
       "3103            McDonald's®  1020       9      1      competition\n",
       "3166            McDonald's®  1110     292      1      competition"
      ]
     },
     "execution_count": 20,
     "metadata": {},
     "output_type": "execute_result"
    }
   ],
   "source": [
    "data_2[data_2.duplicated(['name','zip'])]"
   ]
  },
  {
   "cell_type": "code",
   "execution_count": 21,
   "id": "49fa257d-b62f-448d-976a-86159273b3a3",
   "metadata": {
    "tags": []
   },
   "outputs": [
    {
     "data": {
      "text/html": [
       "<div>\n",
       "<style scoped>\n",
       "    .dataframe tbody tr th:only-of-type {\n",
       "        vertical-align: middle;\n",
       "    }\n",
       "\n",
       "    .dataframe tbody tr th {\n",
       "        vertical-align: top;\n",
       "    }\n",
       "\n",
       "    .dataframe thead th {\n",
       "        text-align: right;\n",
       "    }\n",
       "</style>\n",
       "<table border=\"1\" class=\"dataframe\">\n",
       "  <thead>\n",
       "    <tr style=\"text-align: right;\">\n",
       "      <th></th>\n",
       "      <th>name</th>\n",
       "      <th>zip</th>\n",
       "      <th>month</th>\n",
       "      <th>delivery_service</th>\n",
       "      <th>orders</th>\n",
       "    </tr>\n",
       "  </thead>\n",
       "  <tbody>\n",
       "    <tr>\n",
       "      <th>0</th>\n",
       "      <td>1001 nacht</td>\n",
       "      <td>1170</td>\n",
       "      <td>1</td>\n",
       "      <td>competition</td>\n",
       "      <td>44</td>\n",
       "    </tr>\n",
       "    <tr>\n",
       "      <th>1</th>\n",
       "      <td>11:11 Make a Wish</td>\n",
       "      <td>5020</td>\n",
       "      <td>1</td>\n",
       "      <td>competition</td>\n",
       "      <td>41</td>\n",
       "    </tr>\n",
       "    <tr>\n",
       "      <th>2</th>\n",
       "      <td>15 süße Minuten</td>\n",
       "      <td>1040</td>\n",
       "      <td>1</td>\n",
       "      <td>competition</td>\n",
       "      <td>44</td>\n",
       "    </tr>\n",
       "    <tr>\n",
       "      <th>3</th>\n",
       "      <td>1516 Brewing Company</td>\n",
       "      <td>1010</td>\n",
       "      <td>1</td>\n",
       "      <td>competition</td>\n",
       "      <td>488</td>\n",
       "    </tr>\n",
       "    <tr>\n",
       "      <th>4</th>\n",
       "      <td>1A Pizzaexpress</td>\n",
       "      <td>8740</td>\n",
       "      <td>1</td>\n",
       "      <td>competition</td>\n",
       "      <td>409</td>\n",
       "    </tr>\n",
       "    <tr>\n",
       "      <th>...</th>\n",
       "      <td>...</td>\n",
       "      <td>...</td>\n",
       "      <td>...</td>\n",
       "      <td>...</td>\n",
       "      <td>...</td>\n",
       "    </tr>\n",
       "    <tr>\n",
       "      <th>3163</th>\n",
       "      <td>Ötzi's</td>\n",
       "      <td>9560</td>\n",
       "      <td>1</td>\n",
       "      <td>competition</td>\n",
       "      <td>652</td>\n",
       "    </tr>\n",
       "    <tr>\n",
       "      <th>3164</th>\n",
       "      <td>Ötzi's Fast Food</td>\n",
       "      <td>9800</td>\n",
       "      <td>1</td>\n",
       "      <td>competition</td>\n",
       "      <td>8</td>\n",
       "    </tr>\n",
       "    <tr>\n",
       "      <th>3165</th>\n",
       "      <td>Öz Etli Ekmek</td>\n",
       "      <td>1050</td>\n",
       "      <td>1</td>\n",
       "      <td>competition</td>\n",
       "      <td>48</td>\n",
       "    </tr>\n",
       "    <tr>\n",
       "      <th>3166</th>\n",
       "      <td>Ünlü Kebap</td>\n",
       "      <td>1110</td>\n",
       "      <td>1</td>\n",
       "      <td>competition</td>\n",
       "      <td>49</td>\n",
       "    </tr>\n",
       "    <tr>\n",
       "      <th>3167</th>\n",
       "      <td>​Ristorante Milano</td>\n",
       "      <td>1210</td>\n",
       "      <td>1</td>\n",
       "      <td>competition</td>\n",
       "      <td>124</td>\n",
       "    </tr>\n",
       "  </tbody>\n",
       "</table>\n",
       "<p>3168 rows × 5 columns</p>\n",
       "</div>"
      ],
      "text/plain": [
       "                      name   zip  month delivery_service  orders\n",
       "0               1001 nacht  1170      1      competition      44\n",
       "1        11:11 Make a Wish  5020      1      competition      41\n",
       "2          15 süße Minuten  1040      1      competition      44\n",
       "3     1516 Brewing Company  1010      1      competition     488\n",
       "4          1A Pizzaexpress  8740      1      competition     409\n",
       "...                    ...   ...    ...              ...     ...\n",
       "3163                Ötzi's  9560      1      competition     652\n",
       "3164      Ötzi's Fast Food  9800      1      competition       8\n",
       "3165         Öz Etli Ekmek  1050      1      competition      48\n",
       "3166            Ünlü Kebap  1110      1      competition      49\n",
       "3167    ​Ristorante Milano  1210      1      competition     124\n",
       "\n",
       "[3168 rows x 5 columns]"
      ]
     },
     "execution_count": 21,
     "metadata": {},
     "output_type": "execute_result"
    }
   ],
   "source": [
    "#unique values restaurants\n",
    "\n",
    "data_2_unique= data_2.groupby(['name','zip','month','delivery_service'], as_index=False).agg({'orders': 'sum'})\n",
    "\n",
    "data_2_unique"
   ]
  },
  {
   "cell_type": "code",
   "execution_count": 22,
   "id": "59f483fe-bc30-44ae-9dd1-f78accf8e331",
   "metadata": {
    "tags": []
   },
   "outputs": [
    {
     "name": "stdout",
     "output_type": "stream",
     "text": [
      "<class 'pandas.core.frame.DataFrame'>\n",
      "RangeIndex: 3168 entries, 0 to 3167\n",
      "Data columns (total 5 columns):\n",
      " #   Column            Non-Null Count  Dtype \n",
      "---  ------            --------------  ----- \n",
      " 0   name              3168 non-null   object\n",
      " 1   zip               3168 non-null   int64 \n",
      " 2   month             3168 non-null   int64 \n",
      " 3   delivery_service  3168 non-null   object\n",
      " 4   orders            3168 non-null   int64 \n",
      "dtypes: int64(3), object(2)\n",
      "memory usage: 123.9+ KB\n"
     ]
    }
   ],
   "source": [
    "data_2_unique.info()"
   ]
  },
  {
   "cell_type": "markdown",
   "id": "fa76228f-be55-4362-9b18-a0ac49bddbe9",
   "metadata": {},
   "source": [
    "#### Sheet 2"
   ]
  },
  {
   "cell_type": "code",
   "execution_count": 23,
   "id": "1f75bad4-b793-475d-8f73-30491ed50551",
   "metadata": {},
   "outputs": [
    {
     "data": {
      "text/html": [
       "<div>\n",
       "<style scoped>\n",
       "    .dataframe tbody tr th:only-of-type {\n",
       "        vertical-align: middle;\n",
       "    }\n",
       "\n",
       "    .dataframe tbody tr th {\n",
       "        vertical-align: top;\n",
       "    }\n",
       "\n",
       "    .dataframe thead th {\n",
       "        text-align: right;\n",
       "    }\n",
       "</style>\n",
       "<table border=\"1\" class=\"dataframe\">\n",
       "  <thead>\n",
       "    <tr style=\"text-align: right;\">\n",
       "      <th></th>\n",
       "      <th>name</th>\n",
       "      <th>zip</th>\n",
       "      <th>orders</th>\n",
       "      <th>month</th>\n",
       "      <th>delivery_service</th>\n",
       "    </tr>\n",
       "  </thead>\n",
       "  <tbody>\n",
       "    <tr>\n",
       "      <th>0</th>\n",
       "      <td>Bio-Pizzeria Vero</td>\n",
       "      <td>1090.0</td>\n",
       "      <td>493.0</td>\n",
       "      <td>2.0</td>\n",
       "      <td>competition</td>\n",
       "    </tr>\n",
       "    <tr>\n",
       "      <th>1</th>\n",
       "      <td>Nicht Pizza</td>\n",
       "      <td>1100.0</td>\n",
       "      <td>1191.0</td>\n",
       "      <td>2.0</td>\n",
       "      <td>competition</td>\n",
       "    </tr>\n",
       "    <tr>\n",
       "      <th>2</th>\n",
       "      <td>Fuzo Pizza Kebap &amp; Getränke</td>\n",
       "      <td>4060.0</td>\n",
       "      <td>45.0</td>\n",
       "      <td>2.0</td>\n",
       "      <td>competition</td>\n",
       "    </tr>\n",
       "    <tr>\n",
       "      <th>3</th>\n",
       "      <td>Eat &amp; Meet</td>\n",
       "      <td>4303.0</td>\n",
       "      <td>148.0</td>\n",
       "      <td>2.0</td>\n",
       "      <td>competition</td>\n",
       "    </tr>\n",
       "    <tr>\n",
       "      <th>4</th>\n",
       "      <td>La Vostra</td>\n",
       "      <td>1160.0</td>\n",
       "      <td>1540.0</td>\n",
       "      <td>2.0</td>\n",
       "      <td>competition</td>\n",
       "    </tr>\n",
       "  </tbody>\n",
       "</table>\n",
       "</div>"
      ],
      "text/plain": [
       "                          name     zip  orders  month delivery_service\n",
       "0            Bio-Pizzeria Vero  1090.0   493.0    2.0      competition\n",
       "1                  Nicht Pizza  1100.0  1191.0    2.0      competition\n",
       "2  Fuzo Pizza Kebap & Getränke  4060.0    45.0    2.0      competition\n",
       "3                   Eat & Meet  4303.0   148.0    2.0      competition\n",
       "4                    La Vostra  1160.0  1540.0    2.0      competition"
      ]
     },
     "execution_count": 23,
     "metadata": {},
     "output_type": "execute_result"
    }
   ],
   "source": [
    "data_sheet2 = pd.read_excel('data_sets/SalesAnalyst_Competition.xlsx', sheet_name = 1)\n",
    "data_sheet2.head()"
   ]
  },
  {
   "cell_type": "code",
   "execution_count": 24,
   "id": "a9117de0-0f1b-4159-ba5a-5db2a422019f",
   "metadata": {},
   "outputs": [
    {
     "data": {
      "text/plain": [
       "Index(['name', 'zip', 'orders', 'month', 'delivery_service'], dtype='object')"
      ]
     },
     "execution_count": 24,
     "metadata": {},
     "output_type": "execute_result"
    }
   ],
   "source": [
    "data_sheet2.columns"
   ]
  },
  {
   "cell_type": "code",
   "execution_count": 25,
   "id": "f0c4b07c-ec31-4707-960d-cee86614a252",
   "metadata": {},
   "outputs": [
    {
     "name": "stdout",
     "output_type": "stream",
     "text": [
      "<class 'pandas.core.frame.DataFrame'>\n",
      "RangeIndex: 3242 entries, 0 to 3241\n",
      "Data columns (total 5 columns):\n",
      " #   Column            Non-Null Count  Dtype  \n",
      "---  ------            --------------  -----  \n",
      " 0   name              3242 non-null   object \n",
      " 1   zip               3242 non-null   float64\n",
      " 2   orders            3242 non-null   float64\n",
      " 3   month             3242 non-null   float64\n",
      " 4   delivery_service  3242 non-null   object \n",
      "dtypes: float64(3), object(2)\n",
      "memory usage: 126.8+ KB\n"
     ]
    }
   ],
   "source": [
    "data_sheet2.info()"
   ]
  },
  {
   "cell_type": "code",
   "execution_count": 26,
   "id": "f899d06b-826a-426c-82a8-097fa178cac3",
   "metadata": {},
   "outputs": [],
   "source": [
    "data_3= data_sheet2.astype({'zip': int, 'orders': int, 'month': int },copy=False)"
   ]
  },
  {
   "cell_type": "code",
   "execution_count": 27,
   "id": "55b426ec-b72c-4e89-b5eb-39c4e3287043",
   "metadata": {},
   "outputs": [
    {
     "name": "stdout",
     "output_type": "stream",
     "text": [
      "<class 'pandas.core.frame.DataFrame'>\n",
      "RangeIndex: 3242 entries, 0 to 3241\n",
      "Data columns (total 5 columns):\n",
      " #   Column            Non-Null Count  Dtype \n",
      "---  ------            --------------  ----- \n",
      " 0   name              3242 non-null   object\n",
      " 1   zip               3242 non-null   int64 \n",
      " 2   orders            3242 non-null   int64 \n",
      " 3   month             3242 non-null   int64 \n",
      " 4   delivery_service  3242 non-null   object\n",
      "dtypes: int64(3), object(2)\n",
      "memory usage: 126.8+ KB\n"
     ]
    }
   ],
   "source": [
    "data_3.info()"
   ]
  },
  {
   "cell_type": "code",
   "execution_count": 28,
   "id": "9d997336-00c7-45df-8cdb-029fc6015ea0",
   "metadata": {},
   "outputs": [
    {
     "data": {
      "text/plain": [
       "name                0\n",
       "zip                 0\n",
       "orders              0\n",
       "month               0\n",
       "delivery_service    0\n",
       "dtype: int64"
      ]
     },
     "execution_count": 28,
     "metadata": {},
     "output_type": "execute_result"
    }
   ],
   "source": [
    "data_3.isnull().sum()"
   ]
  },
  {
   "cell_type": "code",
   "execution_count": 29,
   "id": "2b4c309f-20ab-4d90-b894-3032c727feac",
   "metadata": {},
   "outputs": [
    {
     "data": {
      "text/plain": [
       "310"
      ]
     },
     "execution_count": 29,
     "metadata": {},
     "output_type": "execute_result"
    }
   ],
   "source": [
    "data_3['name'].duplicated().sum()"
   ]
  },
  {
   "cell_type": "code",
   "execution_count": 30,
   "id": "32a7e1c0-a577-49aa-bcd9-1a1bc65ebc93",
   "metadata": {},
   "outputs": [
    {
     "data": {
      "text/html": [
       "<div>\n",
       "<style scoped>\n",
       "    .dataframe tbody tr th:only-of-type {\n",
       "        vertical-align: middle;\n",
       "    }\n",
       "\n",
       "    .dataframe tbody tr th {\n",
       "        vertical-align: top;\n",
       "    }\n",
       "\n",
       "    .dataframe thead th {\n",
       "        text-align: right;\n",
       "    }\n",
       "</style>\n",
       "<table border=\"1\" class=\"dataframe\">\n",
       "  <thead>\n",
       "    <tr style=\"text-align: right;\">\n",
       "      <th></th>\n",
       "      <th>name</th>\n",
       "      <th>zip</th>\n",
       "      <th>orders</th>\n",
       "      <th>month</th>\n",
       "      <th>delivery_service</th>\n",
       "    </tr>\n",
       "  </thead>\n",
       "  <tbody>\n",
       "    <tr>\n",
       "      <th>928</th>\n",
       "      <td>Fresh One Pot Kitchen</td>\n",
       "      <td>1010</td>\n",
       "      <td>10</td>\n",
       "      <td>2</td>\n",
       "      <td>competition</td>\n",
       "    </tr>\n",
       "    <tr>\n",
       "      <th>1779</th>\n",
       "      <td>Fresh One Pot Kitchen</td>\n",
       "      <td>1010</td>\n",
       "      <td>10</td>\n",
       "      <td>2</td>\n",
       "      <td>competition</td>\n",
       "    </tr>\n",
       "  </tbody>\n",
       "</table>\n",
       "</div>"
      ],
      "text/plain": [
       "                       name   zip  orders  month delivery_service\n",
       "928   Fresh One Pot Kitchen  1010      10      2      competition\n",
       "1779  Fresh One Pot Kitchen  1010      10      2      competition"
      ]
     },
     "execution_count": 30,
     "metadata": {},
     "output_type": "execute_result"
    }
   ],
   "source": [
    "data_3[data_3.duplicated(keep=False)]"
   ]
  },
  {
   "cell_type": "code",
   "execution_count": 31,
   "id": "607a6800-6fa6-4d26-af05-57b2d0c65d52",
   "metadata": {
    "tags": []
   },
   "outputs": [
    {
     "data": {
      "text/html": [
       "<div>\n",
       "<style scoped>\n",
       "    .dataframe tbody tr th:only-of-type {\n",
       "        vertical-align: middle;\n",
       "    }\n",
       "\n",
       "    .dataframe tbody tr th {\n",
       "        vertical-align: top;\n",
       "    }\n",
       "\n",
       "    .dataframe thead th {\n",
       "        text-align: right;\n",
       "    }\n",
       "</style>\n",
       "<table border=\"1\" class=\"dataframe\">\n",
       "  <thead>\n",
       "    <tr style=\"text-align: right;\">\n",
       "      <th></th>\n",
       "      <th>name</th>\n",
       "      <th>zip</th>\n",
       "      <th>orders</th>\n",
       "      <th>month</th>\n",
       "      <th>delivery_service</th>\n",
       "    </tr>\n",
       "  </thead>\n",
       "  <tbody>\n",
       "    <tr>\n",
       "      <th>396</th>\n",
       "      <td>Pizza Mann</td>\n",
       "      <td>5020</td>\n",
       "      <td>110</td>\n",
       "      <td>2</td>\n",
       "      <td>competition</td>\n",
       "    </tr>\n",
       "    <tr>\n",
       "      <th>480</th>\n",
       "      <td>Wiener Schnitzelland</td>\n",
       "      <td>1220</td>\n",
       "      <td>499</td>\n",
       "      <td>2</td>\n",
       "      <td>competition</td>\n",
       "    </tr>\n",
       "    <tr>\n",
       "      <th>855</th>\n",
       "      <td>NORDSEE</td>\n",
       "      <td>1010</td>\n",
       "      <td>9</td>\n",
       "      <td>2</td>\n",
       "      <td>competition</td>\n",
       "    </tr>\n",
       "    <tr>\n",
       "      <th>1015</th>\n",
       "      <td>McDonald's®</td>\n",
       "      <td>9020</td>\n",
       "      <td>321</td>\n",
       "      <td>2</td>\n",
       "      <td>competition</td>\n",
       "    </tr>\n",
       "    <tr>\n",
       "      <th>1065</th>\n",
       "      <td>NORDSEE</td>\n",
       "      <td>1010</td>\n",
       "      <td>11</td>\n",
       "      <td>2</td>\n",
       "      <td>competition</td>\n",
       "    </tr>\n",
       "    <tr>\n",
       "      <th>1227</th>\n",
       "      <td>McDonald's®</td>\n",
       "      <td>6020</td>\n",
       "      <td>271</td>\n",
       "      <td>2</td>\n",
       "      <td>competition</td>\n",
       "    </tr>\n",
       "    <tr>\n",
       "      <th>1403</th>\n",
       "      <td>Burgerista</td>\n",
       "      <td>1150</td>\n",
       "      <td>241</td>\n",
       "      <td>2</td>\n",
       "      <td>competition</td>\n",
       "    </tr>\n",
       "    <tr>\n",
       "      <th>1465</th>\n",
       "      <td>McDonald's®</td>\n",
       "      <td>6020</td>\n",
       "      <td>215</td>\n",
       "      <td>2</td>\n",
       "      <td>competition</td>\n",
       "    </tr>\n",
       "    <tr>\n",
       "      <th>1557</th>\n",
       "      <td>McDonald's®</td>\n",
       "      <td>8010</td>\n",
       "      <td>704</td>\n",
       "      <td>2</td>\n",
       "      <td>competition</td>\n",
       "    </tr>\n",
       "    <tr>\n",
       "      <th>1612</th>\n",
       "      <td>NORDSEE</td>\n",
       "      <td>6020</td>\n",
       "      <td>14</td>\n",
       "      <td>2</td>\n",
       "      <td>competition</td>\n",
       "    </tr>\n",
       "    <tr>\n",
       "      <th>1732</th>\n",
       "      <td>McDonald's®</td>\n",
       "      <td>1100</td>\n",
       "      <td>522</td>\n",
       "      <td>2</td>\n",
       "      <td>competition</td>\n",
       "    </tr>\n",
       "    <tr>\n",
       "      <th>1755</th>\n",
       "      <td>Die Bausatz Lokale</td>\n",
       "      <td>8010</td>\n",
       "      <td>7</td>\n",
       "      <td>2</td>\n",
       "      <td>competition</td>\n",
       "    </tr>\n",
       "    <tr>\n",
       "      <th>1779</th>\n",
       "      <td>Fresh One Pot Kitchen</td>\n",
       "      <td>1010</td>\n",
       "      <td>10</td>\n",
       "      <td>2</td>\n",
       "      <td>competition</td>\n",
       "    </tr>\n",
       "    <tr>\n",
       "      <th>1814</th>\n",
       "      <td>McDonald's®</td>\n",
       "      <td>9020</td>\n",
       "      <td>84</td>\n",
       "      <td>2</td>\n",
       "      <td>competition</td>\n",
       "    </tr>\n",
       "    <tr>\n",
       "      <th>1818</th>\n",
       "      <td>Tasties</td>\n",
       "      <td>6020</td>\n",
       "      <td>7</td>\n",
       "      <td>2</td>\n",
       "      <td>competition</td>\n",
       "    </tr>\n",
       "    <tr>\n",
       "      <th>2046</th>\n",
       "      <td>McDonald's®</td>\n",
       "      <td>1110</td>\n",
       "      <td>188</td>\n",
       "      <td>2</td>\n",
       "      <td>competition</td>\n",
       "    </tr>\n",
       "    <tr>\n",
       "      <th>2120</th>\n",
       "      <td>McDonald's®</td>\n",
       "      <td>1090</td>\n",
       "      <td>250</td>\n",
       "      <td>2</td>\n",
       "      <td>competition</td>\n",
       "    </tr>\n",
       "    <tr>\n",
       "      <th>2128</th>\n",
       "      <td>McDonald's®</td>\n",
       "      <td>5020</td>\n",
       "      <td>452</td>\n",
       "      <td>2</td>\n",
       "      <td>competition</td>\n",
       "    </tr>\n",
       "    <tr>\n",
       "      <th>2310</th>\n",
       "      <td>ACASA</td>\n",
       "      <td>6020</td>\n",
       "      <td>1533</td>\n",
       "      <td>2</td>\n",
       "      <td>competition</td>\n",
       "    </tr>\n",
       "    <tr>\n",
       "      <th>2377</th>\n",
       "      <td>McDonald's®</td>\n",
       "      <td>9020</td>\n",
       "      <td>93</td>\n",
       "      <td>2</td>\n",
       "      <td>competition</td>\n",
       "    </tr>\n",
       "    <tr>\n",
       "      <th>2547</th>\n",
       "      <td>Rosamunde Kebap</td>\n",
       "      <td>8010</td>\n",
       "      <td>285</td>\n",
       "      <td>2</td>\n",
       "      <td>competition</td>\n",
       "    </tr>\n",
       "    <tr>\n",
       "      <th>2594</th>\n",
       "      <td>Som Kitchen</td>\n",
       "      <td>1100</td>\n",
       "      <td>186</td>\n",
       "      <td>2</td>\n",
       "      <td>competition</td>\n",
       "    </tr>\n",
       "    <tr>\n",
       "      <th>2605</th>\n",
       "      <td>Burger King</td>\n",
       "      <td>8010</td>\n",
       "      <td>79</td>\n",
       "      <td>2</td>\n",
       "      <td>competition</td>\n",
       "    </tr>\n",
       "    <tr>\n",
       "      <th>2625</th>\n",
       "      <td>McDonald's®</td>\n",
       "      <td>6020</td>\n",
       "      <td>193</td>\n",
       "      <td>2</td>\n",
       "      <td>competition</td>\n",
       "    </tr>\n",
       "    <tr>\n",
       "      <th>2689</th>\n",
       "      <td>Wiener Schnitzelland</td>\n",
       "      <td>1220</td>\n",
       "      <td>1003</td>\n",
       "      <td>2</td>\n",
       "      <td>competition</td>\n",
       "    </tr>\n",
       "    <tr>\n",
       "      <th>2718</th>\n",
       "      <td>McDonald's®</td>\n",
       "      <td>1010</td>\n",
       "      <td>344</td>\n",
       "      <td>2</td>\n",
       "      <td>competition</td>\n",
       "    </tr>\n",
       "    <tr>\n",
       "      <th>2751</th>\n",
       "      <td>McDonald's®</td>\n",
       "      <td>4020</td>\n",
       "      <td>425</td>\n",
       "      <td>2</td>\n",
       "      <td>competition</td>\n",
       "    </tr>\n",
       "    <tr>\n",
       "      <th>2782</th>\n",
       "      <td>McDonald's®</td>\n",
       "      <td>8020</td>\n",
       "      <td>393</td>\n",
       "      <td>2</td>\n",
       "      <td>competition</td>\n",
       "    </tr>\n",
       "    <tr>\n",
       "      <th>2897</th>\n",
       "      <td>Aydin Bäckerei</td>\n",
       "      <td>6020</td>\n",
       "      <td>4</td>\n",
       "      <td>2</td>\n",
       "      <td>competition</td>\n",
       "    </tr>\n",
       "    <tr>\n",
       "      <th>2934</th>\n",
       "      <td>Yamamoto</td>\n",
       "      <td>8010</td>\n",
       "      <td>141</td>\n",
       "      <td>2</td>\n",
       "      <td>competition</td>\n",
       "    </tr>\n",
       "    <tr>\n",
       "      <th>2946</th>\n",
       "      <td>McDonald's®</td>\n",
       "      <td>1100</td>\n",
       "      <td>179</td>\n",
       "      <td>2</td>\n",
       "      <td>competition</td>\n",
       "    </tr>\n",
       "    <tr>\n",
       "      <th>3040</th>\n",
       "      <td>NORDSEE</td>\n",
       "      <td>5020</td>\n",
       "      <td>57</td>\n",
       "      <td>2</td>\n",
       "      <td>competition</td>\n",
       "    </tr>\n",
       "    <tr>\n",
       "      <th>3065</th>\n",
       "      <td>NORDSEE</td>\n",
       "      <td>1150</td>\n",
       "      <td>1931</td>\n",
       "      <td>2</td>\n",
       "      <td>competition</td>\n",
       "    </tr>\n",
       "    <tr>\n",
       "      <th>3093</th>\n",
       "      <td>McDonald's®</td>\n",
       "      <td>4020</td>\n",
       "      <td>408</td>\n",
       "      <td>2</td>\n",
       "      <td>competition</td>\n",
       "    </tr>\n",
       "    <tr>\n",
       "      <th>3096</th>\n",
       "      <td>Juice Factory</td>\n",
       "      <td>1010</td>\n",
       "      <td>8</td>\n",
       "      <td>2</td>\n",
       "      <td>competition</td>\n",
       "    </tr>\n",
       "    <tr>\n",
       "      <th>3110</th>\n",
       "      <td>Subway</td>\n",
       "      <td>8020</td>\n",
       "      <td>160</td>\n",
       "      <td>2</td>\n",
       "      <td>competition</td>\n",
       "    </tr>\n",
       "    <tr>\n",
       "      <th>3124</th>\n",
       "      <td>Subway</td>\n",
       "      <td>4020</td>\n",
       "      <td>365</td>\n",
       "      <td>2</td>\n",
       "      <td>competition</td>\n",
       "    </tr>\n",
       "    <tr>\n",
       "      <th>3176</th>\n",
       "      <td>McDonald's®</td>\n",
       "      <td>1020</td>\n",
       "      <td>90</td>\n",
       "      <td>2</td>\n",
       "      <td>competition</td>\n",
       "    </tr>\n",
       "    <tr>\n",
       "      <th>3197</th>\n",
       "      <td>Schnitzel Man</td>\n",
       "      <td>1120</td>\n",
       "      <td>632</td>\n",
       "      <td>2</td>\n",
       "      <td>competition</td>\n",
       "    </tr>\n",
       "    <tr>\n",
       "      <th>3220</th>\n",
       "      <td>Burger King</td>\n",
       "      <td>1100</td>\n",
       "      <td>223</td>\n",
       "      <td>2</td>\n",
       "      <td>competition</td>\n",
       "    </tr>\n",
       "  </tbody>\n",
       "</table>\n",
       "</div>"
      ],
      "text/plain": [
       "                       name   zip  orders  month delivery_service\n",
       "396              Pizza Mann  5020     110      2      competition\n",
       "480    Wiener Schnitzelland  1220     499      2      competition\n",
       "855                 NORDSEE  1010       9      2      competition\n",
       "1015            McDonald's®  9020     321      2      competition\n",
       "1065                NORDSEE  1010      11      2      competition\n",
       "1227            McDonald's®  6020     271      2      competition\n",
       "1403             Burgerista  1150     241      2      competition\n",
       "1465            McDonald's®  6020     215      2      competition\n",
       "1557            McDonald's®  8010     704      2      competition\n",
       "1612                NORDSEE  6020      14      2      competition\n",
       "1732            McDonald's®  1100     522      2      competition\n",
       "1755     Die Bausatz Lokale  8010       7      2      competition\n",
       "1779  Fresh One Pot Kitchen  1010      10      2      competition\n",
       "1814            McDonald's®  9020      84      2      competition\n",
       "1818                Tasties  6020       7      2      competition\n",
       "2046            McDonald's®  1110     188      2      competition\n",
       "2120            McDonald's®  1090     250      2      competition\n",
       "2128            McDonald's®  5020     452      2      competition\n",
       "2310                  ACASA  6020    1533      2      competition\n",
       "2377            McDonald's®  9020      93      2      competition\n",
       "2547        Rosamunde Kebap  8010     285      2      competition\n",
       "2594            Som Kitchen  1100     186      2      competition\n",
       "2605            Burger King  8010      79      2      competition\n",
       "2625            McDonald's®  6020     193      2      competition\n",
       "2689   Wiener Schnitzelland  1220    1003      2      competition\n",
       "2718            McDonald's®  1010     344      2      competition\n",
       "2751            McDonald's®  4020     425      2      competition\n",
       "2782            McDonald's®  8020     393      2      competition\n",
       "2897         Aydin Bäckerei  6020       4      2      competition\n",
       "2934               Yamamoto  8010     141      2      competition\n",
       "2946            McDonald's®  1100     179      2      competition\n",
       "3040                NORDSEE  5020      57      2      competition\n",
       "3065                NORDSEE  1150    1931      2      competition\n",
       "3093            McDonald's®  4020     408      2      competition\n",
       "3096          Juice Factory  1010       8      2      competition\n",
       "3110                 Subway  8020     160      2      competition\n",
       "3124                 Subway  4020     365      2      competition\n",
       "3176            McDonald's®  1020      90      2      competition\n",
       "3197          Schnitzel Man  1120     632      2      competition\n",
       "3220            Burger King  1100     223      2      competition"
      ]
     },
     "execution_count": 31,
     "metadata": {},
     "output_type": "execute_result"
    }
   ],
   "source": [
    "data_3[data_3.duplicated(['name','zip'])]"
   ]
  },
  {
   "cell_type": "code",
   "execution_count": 32,
   "id": "e30d7d23-a3e9-44dc-8261-9af3c500db47",
   "metadata": {
    "tags": []
   },
   "outputs": [
    {
     "data": {
      "text/html": [
       "<div>\n",
       "<style scoped>\n",
       "    .dataframe tbody tr th:only-of-type {\n",
       "        vertical-align: middle;\n",
       "    }\n",
       "\n",
       "    .dataframe tbody tr th {\n",
       "        vertical-align: top;\n",
       "    }\n",
       "\n",
       "    .dataframe thead th {\n",
       "        text-align: right;\n",
       "    }\n",
       "</style>\n",
       "<table border=\"1\" class=\"dataframe\">\n",
       "  <thead>\n",
       "    <tr style=\"text-align: right;\">\n",
       "      <th></th>\n",
       "      <th>name</th>\n",
       "      <th>zip</th>\n",
       "      <th>month</th>\n",
       "      <th>delivery_service</th>\n",
       "      <th>orders</th>\n",
       "    </tr>\n",
       "  </thead>\n",
       "  <tbody>\n",
       "    <tr>\n",
       "      <th>0</th>\n",
       "      <td>1001 nacht</td>\n",
       "      <td>1170</td>\n",
       "      <td>2</td>\n",
       "      <td>competition</td>\n",
       "      <td>76</td>\n",
       "    </tr>\n",
       "    <tr>\n",
       "      <th>1</th>\n",
       "      <td>11:11 Make a Wish</td>\n",
       "      <td>5020</td>\n",
       "      <td>2</td>\n",
       "      <td>competition</td>\n",
       "      <td>11</td>\n",
       "    </tr>\n",
       "    <tr>\n",
       "      <th>2</th>\n",
       "      <td>15 süße Minuten</td>\n",
       "      <td>1040</td>\n",
       "      <td>2</td>\n",
       "      <td>competition</td>\n",
       "      <td>34</td>\n",
       "    </tr>\n",
       "    <tr>\n",
       "      <th>3</th>\n",
       "      <td>1516 Brewing Company</td>\n",
       "      <td>1010</td>\n",
       "      <td>2</td>\n",
       "      <td>competition</td>\n",
       "      <td>338</td>\n",
       "    </tr>\n",
       "    <tr>\n",
       "      <th>4</th>\n",
       "      <td>1A Pizzaexpress</td>\n",
       "      <td>8740</td>\n",
       "      <td>2</td>\n",
       "      <td>competition</td>\n",
       "      <td>453</td>\n",
       "    </tr>\n",
       "    <tr>\n",
       "      <th>...</th>\n",
       "      <td>...</td>\n",
       "      <td>...</td>\n",
       "      <td>...</td>\n",
       "      <td>...</td>\n",
       "      <td>...</td>\n",
       "    </tr>\n",
       "    <tr>\n",
       "      <th>3197</th>\n",
       "      <td>Ötzi's</td>\n",
       "      <td>9560</td>\n",
       "      <td>2</td>\n",
       "      <td>competition</td>\n",
       "      <td>753</td>\n",
       "    </tr>\n",
       "    <tr>\n",
       "      <th>3198</th>\n",
       "      <td>Ötzi's Fast Food</td>\n",
       "      <td>9800</td>\n",
       "      <td>2</td>\n",
       "      <td>competition</td>\n",
       "      <td>54</td>\n",
       "    </tr>\n",
       "    <tr>\n",
       "      <th>3199</th>\n",
       "      <td>Öz Etli Ekmek</td>\n",
       "      <td>1050</td>\n",
       "      <td>2</td>\n",
       "      <td>competition</td>\n",
       "      <td>37</td>\n",
       "    </tr>\n",
       "    <tr>\n",
       "      <th>3200</th>\n",
       "      <td>Ünlü Kebap</td>\n",
       "      <td>1110</td>\n",
       "      <td>2</td>\n",
       "      <td>competition</td>\n",
       "      <td>10</td>\n",
       "    </tr>\n",
       "    <tr>\n",
       "      <th>3201</th>\n",
       "      <td>​Ristorante Milano</td>\n",
       "      <td>1210</td>\n",
       "      <td>2</td>\n",
       "      <td>competition</td>\n",
       "      <td>81</td>\n",
       "    </tr>\n",
       "  </tbody>\n",
       "</table>\n",
       "<p>3202 rows × 5 columns</p>\n",
       "</div>"
      ],
      "text/plain": [
       "                      name   zip  month delivery_service  orders\n",
       "0               1001 nacht  1170      2      competition      76\n",
       "1        11:11 Make a Wish  5020      2      competition      11\n",
       "2          15 süße Minuten  1040      2      competition      34\n",
       "3     1516 Brewing Company  1010      2      competition     338\n",
       "4          1A Pizzaexpress  8740      2      competition     453\n",
       "...                    ...   ...    ...              ...     ...\n",
       "3197                Ötzi's  9560      2      competition     753\n",
       "3198      Ötzi's Fast Food  9800      2      competition      54\n",
       "3199         Öz Etli Ekmek  1050      2      competition      37\n",
       "3200            Ünlü Kebap  1110      2      competition      10\n",
       "3201    ​Ristorante Milano  1210      2      competition      81\n",
       "\n",
       "[3202 rows x 5 columns]"
      ]
     },
     "execution_count": 32,
     "metadata": {},
     "output_type": "execute_result"
    }
   ],
   "source": [
    "#unique values restaurants\n",
    "\n",
    "data_3_unique= data_3.groupby(['name','zip','month','delivery_service'], as_index=False).agg({'orders': 'sum'})\n",
    "\n",
    "data_3_unique"
   ]
  },
  {
   "cell_type": "markdown",
   "id": "28d4f890-ea46-451e-a7fa-2a05be1aee09",
   "metadata": {},
   "source": [
    "# Business Questions"
   ]
  },
  {
   "cell_type": "markdown",
   "id": "20660f45-a826-4bd0-a01f-b46b5c081b1b",
   "metadata": {},
   "source": [
    "## 1. How many restaurants are active on deliverando or our competitors in the given months (>0 orders per month)?"
   ]
  },
  {
   "cell_type": "code",
   "execution_count": 33,
   "id": "91842e16-6487-4554-81f0-61e7fe57849c",
   "metadata": {
    "tags": []
   },
   "outputs": [
    {
     "data": {
      "text/html": [
       "<div>\n",
       "<style scoped>\n",
       "    .dataframe tbody tr th:only-of-type {\n",
       "        vertical-align: middle;\n",
       "    }\n",
       "\n",
       "    .dataframe tbody tr th {\n",
       "        vertical-align: top;\n",
       "    }\n",
       "\n",
       "    .dataframe thead th {\n",
       "        text-align: right;\n",
       "    }\n",
       "</style>\n",
       "<table border=\"1\" class=\"dataframe\">\n",
       "  <thead>\n",
       "    <tr style=\"text-align: right;\">\n",
       "      <th></th>\n",
       "      <th>name</th>\n",
       "      <th>zip</th>\n",
       "      <th>kpi</th>\n",
       "      <th>Month 1</th>\n",
       "      <th>Month 2</th>\n",
       "      <th>delivery service</th>\n",
       "      <th>total_orders</th>\n",
       "    </tr>\n",
       "  </thead>\n",
       "  <tbody>\n",
       "    <tr>\n",
       "      <th>0</th>\n",
       "      <td>Mampf</td>\n",
       "      <td>8020</td>\n",
       "      <td># Commissionable Orders</td>\n",
       "      <td>699.0</td>\n",
       "      <td>822.0</td>\n",
       "      <td>deliverando</td>\n",
       "      <td>1521.0</td>\n",
       "    </tr>\n",
       "    <tr>\n",
       "      <th>6</th>\n",
       "      <td>Dolce Vita</td>\n",
       "      <td>8020</td>\n",
       "      <td># Commissionable Orders</td>\n",
       "      <td>1178.0</td>\n",
       "      <td>1353.0</td>\n",
       "      <td>deliverando</td>\n",
       "      <td>2531.0</td>\n",
       "    </tr>\n",
       "    <tr>\n",
       "      <th>12</th>\n",
       "      <td>China Restaurant Mond</td>\n",
       "      <td>8010</td>\n",
       "      <td># Commissionable Orders</td>\n",
       "      <td>230.0</td>\n",
       "      <td>375.0</td>\n",
       "      <td>deliverando</td>\n",
       "      <td>605.0</td>\n",
       "    </tr>\n",
       "    <tr>\n",
       "      <th>18</th>\n",
       "      <td>Royal</td>\n",
       "      <td>8020</td>\n",
       "      <td># Commissionable Orders</td>\n",
       "      <td>692.0</td>\n",
       "      <td>734.0</td>\n",
       "      <td>deliverando</td>\n",
       "      <td>1426.0</td>\n",
       "    </tr>\n",
       "    <tr>\n",
       "      <th>24</th>\n",
       "      <td>Xpress</td>\n",
       "      <td>8020</td>\n",
       "      <td># Commissionable Orders</td>\n",
       "      <td>365.0</td>\n",
       "      <td>410.0</td>\n",
       "      <td>deliverando</td>\n",
       "      <td>775.0</td>\n",
       "    </tr>\n",
       "    <tr>\n",
       "      <th>...</th>\n",
       "      <td>...</td>\n",
       "      <td>...</td>\n",
       "      <td>...</td>\n",
       "      <td>...</td>\n",
       "      <td>...</td>\n",
       "      <td>...</td>\n",
       "      <td>...</td>\n",
       "    </tr>\n",
       "    <tr>\n",
       "      <th>1633</th>\n",
       "      <td>Gasthof zum Bayernbrunnen</td>\n",
       "      <td>8020</td>\n",
       "      <td># Commissionable Orders</td>\n",
       "      <td>0.0</td>\n",
       "      <td>0.0</td>\n",
       "      <td>deliverando</td>\n",
       "      <td>0.0</td>\n",
       "    </tr>\n",
       "    <tr>\n",
       "      <th>1636</th>\n",
       "      <td>Ucco's</td>\n",
       "      <td>8010</td>\n",
       "      <td># Commissionable Orders</td>\n",
       "      <td>0.0</td>\n",
       "      <td>0.0</td>\n",
       "      <td>deliverando</td>\n",
       "      <td>0.0</td>\n",
       "    </tr>\n",
       "    <tr>\n",
       "      <th>1639</th>\n",
       "      <td>Wir:zhaus</td>\n",
       "      <td>8020</td>\n",
       "      <td># Commissionable Orders</td>\n",
       "      <td>0.0</td>\n",
       "      <td>0.0</td>\n",
       "      <td>deliverando</td>\n",
       "      <td>0.0</td>\n",
       "    </tr>\n",
       "    <tr>\n",
       "      <th>1642</th>\n",
       "      <td>Namaste Nepal Restaurant</td>\n",
       "      <td>8010</td>\n",
       "      <td># Commissionable Orders</td>\n",
       "      <td>0.0</td>\n",
       "      <td>0.0</td>\n",
       "      <td>deliverando</td>\n",
       "      <td>0.0</td>\n",
       "    </tr>\n",
       "    <tr>\n",
       "      <th>1645</th>\n",
       "      <td>Easy Asia</td>\n",
       "      <td>8020</td>\n",
       "      <td># Commissionable Orders</td>\n",
       "      <td>0.0</td>\n",
       "      <td>0.0</td>\n",
       "      <td>deliverando</td>\n",
       "      <td>0.0</td>\n",
       "    </tr>\n",
       "  </tbody>\n",
       "</table>\n",
       "<p>335 rows × 7 columns</p>\n",
       "</div>"
      ],
      "text/plain": [
       "                           name   zip                      kpi  Month 1  \\\n",
       "0                         Mampf  8020  # Commissionable Orders    699.0   \n",
       "6                    Dolce Vita  8020  # Commissionable Orders   1178.0   \n",
       "12        China Restaurant Mond  8010  # Commissionable Orders    230.0   \n",
       "18                        Royal  8020  # Commissionable Orders    692.0   \n",
       "24                       Xpress  8020  # Commissionable Orders    365.0   \n",
       "...                         ...   ...                      ...      ...   \n",
       "1633  Gasthof zum Bayernbrunnen  8020  # Commissionable Orders      0.0   \n",
       "1636                     Ucco's  8010  # Commissionable Orders      0.0   \n",
       "1639                  Wir:zhaus  8020  # Commissionable Orders      0.0   \n",
       "1642   Namaste Nepal Restaurant  8010  # Commissionable Orders      0.0   \n",
       "1645                  Easy Asia  8020  # Commissionable Orders      0.0   \n",
       "\n",
       "      Month 2 delivery service  total_orders  \n",
       "0       822.0      deliverando        1521.0  \n",
       "6      1353.0      deliverando        2531.0  \n",
       "12      375.0      deliverando         605.0  \n",
       "18      734.0      deliverando        1426.0  \n",
       "24      410.0      deliverando         775.0  \n",
       "...       ...              ...           ...  \n",
       "1633      0.0      deliverando           0.0  \n",
       "1636      0.0      deliverando           0.0  \n",
       "1639      0.0      deliverando           0.0  \n",
       "1642      0.0      deliverando           0.0  \n",
       "1645      0.0      deliverando           0.0  \n",
       "\n",
       "[335 rows x 7 columns]"
      ]
     },
     "execution_count": 33,
     "metadata": {},
     "output_type": "execute_result"
    }
   ],
   "source": [
    "data_1_orders"
   ]
  },
  {
   "cell_type": "code",
   "execution_count": 34,
   "id": "d5b1ccd4-59cb-4cc6-bf14-06772b513199",
   "metadata": {},
   "outputs": [
    {
     "data": {
      "text/plain": [
       "335"
      ]
     },
     "execution_count": 34,
     "metadata": {},
     "output_type": "execute_result"
    }
   ],
   "source": [
    "total_restaurants_data_1= data_1_orders['name'].count()\n",
    "total_restaurants_data_1"
   ]
  },
  {
   "cell_type": "code",
   "execution_count": 35,
   "id": "1a3c110b-7a6b-4a3c-a519-a81087f9642f",
   "metadata": {
    "tags": []
   },
   "outputs": [
    {
     "data": {
      "text/plain": [
       "232"
      ]
     },
     "execution_count": 35,
     "metadata": {},
     "output_type": "execute_result"
    }
   ],
   "source": [
    "active_orders_data_1_m1= data_1_orders.loc[data_1_orders['Month 1'] > 0]\n",
    "number_active_data_1_m1= active_orders_data_1_m1['name'].count()\n",
    "number_active_data_1_m1"
   ]
  },
  {
   "cell_type": "code",
   "execution_count": 36,
   "id": "f1ff64c0-d023-410e-81ab-837370c1ead6",
   "metadata": {
    "tags": []
   },
   "outputs": [
    {
     "data": {
      "text/plain": [
       "238"
      ]
     },
     "execution_count": 36,
     "metadata": {},
     "output_type": "execute_result"
    }
   ],
   "source": [
    "active_orders_data_1_m2= data_1_orders.loc[data_1_orders['Month 2'] > 0]\n",
    "number_active_data_1_m2= active_orders_data_1_m2['name'].count()\n",
    "number_active_data_1_m2"
   ]
  },
  {
   "cell_type": "code",
   "execution_count": 37,
   "id": "ae3283d9-53c1-42cb-b751-1f11646ae909",
   "metadata": {
    "tags": []
   },
   "outputs": [
    {
     "name": "stdout",
     "output_type": "stream",
     "text": [
      "The number of active restaurants that are active (>0 orders per month) on deliverando in Month 1 is 232 out of 335 restaurants registered\n"
     ]
    }
   ],
   "source": [
    "print(f'The number of active restaurants that are active (>0 orders per month) on deliverando in Month 1 is {number_active_data_1_m1} out of {total_restaurants_data_1} restaurants registered') "
   ]
  },
  {
   "cell_type": "code",
   "execution_count": 38,
   "id": "2dff0963-cac1-4792-9f1d-e6d85567266b",
   "metadata": {
    "tags": []
   },
   "outputs": [
    {
     "name": "stdout",
     "output_type": "stream",
     "text": [
      "The number of active restaurants that are active (>0 orders per month) on deliverando in Month 2 is 238 out of 335 restaurants registered\n"
     ]
    }
   ],
   "source": [
    "print(f'The number of active restaurants that are active (>0 orders per month) on deliverando in Month 2 is {number_active_data_1_m2} out of {total_restaurants_data_1} restaurants registered') "
   ]
  },
  {
   "cell_type": "code",
   "execution_count": 39,
   "id": "61b2a523-9cf9-4a67-bed6-bb52b6553e9f",
   "metadata": {
    "tags": []
   },
   "outputs": [
    {
     "data": {
      "text/html": [
       "<div>\n",
       "<style scoped>\n",
       "    .dataframe tbody tr th:only-of-type {\n",
       "        vertical-align: middle;\n",
       "    }\n",
       "\n",
       "    .dataframe tbody tr th {\n",
       "        vertical-align: top;\n",
       "    }\n",
       "\n",
       "    .dataframe thead th {\n",
       "        text-align: right;\n",
       "    }\n",
       "</style>\n",
       "<table border=\"1\" class=\"dataframe\">\n",
       "  <thead>\n",
       "    <tr style=\"text-align: right;\">\n",
       "      <th></th>\n",
       "      <th>name</th>\n",
       "      <th>zip</th>\n",
       "      <th>orders</th>\n",
       "      <th>month</th>\n",
       "      <th>delivery_service</th>\n",
       "    </tr>\n",
       "  </thead>\n",
       "  <tbody>\n",
       "    <tr>\n",
       "      <th>0</th>\n",
       "      <td>Chen's Cooking</td>\n",
       "      <td>1120</td>\n",
       "      <td>575</td>\n",
       "      <td>1</td>\n",
       "      <td>competition</td>\n",
       "    </tr>\n",
       "    <tr>\n",
       "      <th>1</th>\n",
       "      <td>Al Capone</td>\n",
       "      <td>4614</td>\n",
       "      <td>283</td>\n",
       "      <td>1</td>\n",
       "      <td>competition</td>\n",
       "    </tr>\n",
       "    <tr>\n",
       "      <th>2</th>\n",
       "      <td>Schesch Besch</td>\n",
       "      <td>1010</td>\n",
       "      <td>43</td>\n",
       "      <td>1</td>\n",
       "      <td>competition</td>\n",
       "    </tr>\n",
       "    <tr>\n",
       "      <th>3</th>\n",
       "      <td>Gasthaus Bergwirt</td>\n",
       "      <td>4053</td>\n",
       "      <td>1054</td>\n",
       "      <td>1</td>\n",
       "      <td>competition</td>\n",
       "    </tr>\n",
       "    <tr>\n",
       "      <th>4</th>\n",
       "      <td>Kebap &amp; Pizza Antalya</td>\n",
       "      <td>9020</td>\n",
       "      <td>168</td>\n",
       "      <td>1</td>\n",
       "      <td>competition</td>\n",
       "    </tr>\n",
       "    <tr>\n",
       "      <th>...</th>\n",
       "      <td>...</td>\n",
       "      <td>...</td>\n",
       "      <td>...</td>\n",
       "      <td>...</td>\n",
       "      <td>...</td>\n",
       "    </tr>\n",
       "    <tr>\n",
       "      <th>3202</th>\n",
       "      <td>Trattoria Pulcinella</td>\n",
       "      <td>1060</td>\n",
       "      <td>4</td>\n",
       "      <td>1</td>\n",
       "      <td>competition</td>\n",
       "    </tr>\n",
       "    <tr>\n",
       "      <th>3203</th>\n",
       "      <td>Chilidorf</td>\n",
       "      <td>1190</td>\n",
       "      <td>122</td>\n",
       "      <td>1</td>\n",
       "      <td>competition</td>\n",
       "    </tr>\n",
       "    <tr>\n",
       "      <th>3204</th>\n",
       "      <td>La Sera</td>\n",
       "      <td>1150</td>\n",
       "      <td>10</td>\n",
       "      <td>1</td>\n",
       "      <td>competition</td>\n",
       "    </tr>\n",
       "    <tr>\n",
       "      <th>3205</th>\n",
       "      <td>Aangan</td>\n",
       "      <td>1220</td>\n",
       "      <td>737</td>\n",
       "      <td>1</td>\n",
       "      <td>competition</td>\n",
       "    </tr>\n",
       "    <tr>\n",
       "      <th>3206</th>\n",
       "      <td>Tokyo Bay</td>\n",
       "      <td>5020</td>\n",
       "      <td>1012</td>\n",
       "      <td>1</td>\n",
       "      <td>competition</td>\n",
       "    </tr>\n",
       "  </tbody>\n",
       "</table>\n",
       "<p>3207 rows × 5 columns</p>\n",
       "</div>"
      ],
      "text/plain": [
       "                       name   zip  orders  month delivery_service\n",
       "0            Chen's Cooking  1120     575      1      competition\n",
       "1                 Al Capone  4614     283      1      competition\n",
       "2             Schesch Besch  1010      43      1      competition\n",
       "3         Gasthaus Bergwirt  4053    1054      1      competition\n",
       "4     Kebap & Pizza Antalya  9020     168      1      competition\n",
       "...                     ...   ...     ...    ...              ...\n",
       "3202   Trattoria Pulcinella  1060       4      1      competition\n",
       "3203              Chilidorf  1190     122      1      competition\n",
       "3204                La Sera  1150      10      1      competition\n",
       "3205                 Aangan  1220     737      1      competition\n",
       "3206              Tokyo Bay  5020    1012      1      competition\n",
       "\n",
       "[3207 rows x 5 columns]"
      ]
     },
     "execution_count": 39,
     "metadata": {},
     "output_type": "execute_result"
    }
   ],
   "source": [
    "data_2"
   ]
  },
  {
   "cell_type": "code",
   "execution_count": 40,
   "id": "71817d59-1752-4771-9293-23f26483a764",
   "metadata": {
    "tags": []
   },
   "outputs": [
    {
     "data": {
      "text/plain": [
       "3207"
      ]
     },
     "execution_count": 40,
     "metadata": {},
     "output_type": "execute_result"
    }
   ],
   "source": [
    "total_restaurants_data_2= data_2['name'].count()\n",
    "total_restaurants_data_2"
   ]
  },
  {
   "cell_type": "code",
   "execution_count": 41,
   "id": "4ce01f15-7240-4710-ba07-aa9047f5aa4a",
   "metadata": {
    "tags": []
   },
   "outputs": [
    {
     "data": {
      "text/plain": [
       "3162"
      ]
     },
     "execution_count": 41,
     "metadata": {},
     "output_type": "execute_result"
    }
   ],
   "source": [
    "active_orders_data_2_m1= data_2.loc[data_2['orders'] > 0]\n",
    "number_active_data_2_m1= active_orders_data_2_m1['name'].count()\n",
    "number_active_data_2_m1"
   ]
  },
  {
   "cell_type": "code",
   "execution_count": 42,
   "id": "188881e9-0ca6-4700-865c-32ad1c822547",
   "metadata": {
    "tags": []
   },
   "outputs": [
    {
     "name": "stdout",
     "output_type": "stream",
     "text": [
      "The number of active restaurants that are active (>0 orders per month) from our competitors in Month 1 is 3162 out of 3207 registered\n"
     ]
    }
   ],
   "source": [
    "print(f'The number of active restaurants that are active (>0 orders per month) from our competitors in Month 1 is {number_active_data_2_m1} out of {total_restaurants_data_2} registered') "
   ]
  },
  {
   "cell_type": "code",
   "execution_count": 43,
   "id": "f7c4a402-f792-4f71-9615-c809971c09dd",
   "metadata": {
    "tags": []
   },
   "outputs": [
    {
     "data": {
      "text/html": [
       "<div>\n",
       "<style scoped>\n",
       "    .dataframe tbody tr th:only-of-type {\n",
       "        vertical-align: middle;\n",
       "    }\n",
       "\n",
       "    .dataframe tbody tr th {\n",
       "        vertical-align: top;\n",
       "    }\n",
       "\n",
       "    .dataframe thead th {\n",
       "        text-align: right;\n",
       "    }\n",
       "</style>\n",
       "<table border=\"1\" class=\"dataframe\">\n",
       "  <thead>\n",
       "    <tr style=\"text-align: right;\">\n",
       "      <th></th>\n",
       "      <th>name</th>\n",
       "      <th>zip</th>\n",
       "      <th>orders</th>\n",
       "      <th>month</th>\n",
       "      <th>delivery_service</th>\n",
       "    </tr>\n",
       "  </thead>\n",
       "  <tbody>\n",
       "    <tr>\n",
       "      <th>0</th>\n",
       "      <td>Bio-Pizzeria Vero</td>\n",
       "      <td>1090</td>\n",
       "      <td>493</td>\n",
       "      <td>2</td>\n",
       "      <td>competition</td>\n",
       "    </tr>\n",
       "    <tr>\n",
       "      <th>1</th>\n",
       "      <td>Nicht Pizza</td>\n",
       "      <td>1100</td>\n",
       "      <td>1191</td>\n",
       "      <td>2</td>\n",
       "      <td>competition</td>\n",
       "    </tr>\n",
       "    <tr>\n",
       "      <th>2</th>\n",
       "      <td>Fuzo Pizza Kebap &amp; Getränke</td>\n",
       "      <td>4060</td>\n",
       "      <td>45</td>\n",
       "      <td>2</td>\n",
       "      <td>competition</td>\n",
       "    </tr>\n",
       "    <tr>\n",
       "      <th>3</th>\n",
       "      <td>Eat &amp; Meet</td>\n",
       "      <td>4303</td>\n",
       "      <td>148</td>\n",
       "      <td>2</td>\n",
       "      <td>competition</td>\n",
       "    </tr>\n",
       "    <tr>\n",
       "      <th>4</th>\n",
       "      <td>La Vostra</td>\n",
       "      <td>1160</td>\n",
       "      <td>1540</td>\n",
       "      <td>2</td>\n",
       "      <td>competition</td>\n",
       "    </tr>\n",
       "    <tr>\n",
       "      <th>...</th>\n",
       "      <td>...</td>\n",
       "      <td>...</td>\n",
       "      <td>...</td>\n",
       "      <td>...</td>\n",
       "      <td>...</td>\n",
       "    </tr>\n",
       "    <tr>\n",
       "      <th>3237</th>\n",
       "      <td>Ding Wei</td>\n",
       "      <td>1150</td>\n",
       "      <td>836</td>\n",
       "      <td>2</td>\n",
       "      <td>competition</td>\n",
       "    </tr>\n",
       "    <tr>\n",
       "      <th>3238</th>\n",
       "      <td>RistOro</td>\n",
       "      <td>3002</td>\n",
       "      <td>217</td>\n",
       "      <td>2</td>\n",
       "      <td>competition</td>\n",
       "    </tr>\n",
       "    <tr>\n",
       "      <th>3239</th>\n",
       "      <td>Café Amacord</td>\n",
       "      <td>1040</td>\n",
       "      <td>91</td>\n",
       "      <td>2</td>\n",
       "      <td>competition</td>\n",
       "    </tr>\n",
       "    <tr>\n",
       "      <th>3240</th>\n",
       "      <td>Extra Balkan Grill</td>\n",
       "      <td>6900</td>\n",
       "      <td>368</td>\n",
       "      <td>2</td>\n",
       "      <td>competition</td>\n",
       "    </tr>\n",
       "    <tr>\n",
       "      <th>3241</th>\n",
       "      <td>Cafe Mozart Salzburg</td>\n",
       "      <td>5020</td>\n",
       "      <td>7</td>\n",
       "      <td>2</td>\n",
       "      <td>competition</td>\n",
       "    </tr>\n",
       "  </tbody>\n",
       "</table>\n",
       "<p>3242 rows × 5 columns</p>\n",
       "</div>"
      ],
      "text/plain": [
       "                             name   zip  orders  month delivery_service\n",
       "0               Bio-Pizzeria Vero  1090     493      2      competition\n",
       "1                     Nicht Pizza  1100    1191      2      competition\n",
       "2     Fuzo Pizza Kebap & Getränke  4060      45      2      competition\n",
       "3                      Eat & Meet  4303     148      2      competition\n",
       "4                       La Vostra  1160    1540      2      competition\n",
       "...                           ...   ...     ...    ...              ...\n",
       "3237                     Ding Wei  1150     836      2      competition\n",
       "3238                      RistOro  3002     217      2      competition\n",
       "3239                 Café Amacord  1040      91      2      competition\n",
       "3240           Extra Balkan Grill  6900     368      2      competition\n",
       "3241         Cafe Mozart Salzburg  5020       7      2      competition\n",
       "\n",
       "[3242 rows x 5 columns]"
      ]
     },
     "execution_count": 43,
     "metadata": {},
     "output_type": "execute_result"
    }
   ],
   "source": [
    "data_3"
   ]
  },
  {
   "cell_type": "code",
   "execution_count": 44,
   "id": "0ad5bab0-7df4-4982-a0bf-8155e38bb922",
   "metadata": {
    "tags": []
   },
   "outputs": [
    {
     "data": {
      "text/plain": [
       "3242"
      ]
     },
     "execution_count": 44,
     "metadata": {},
     "output_type": "execute_result"
    }
   ],
   "source": [
    "total_restaurants_data_3= data_3['name'].count()\n",
    "total_restaurants_data_3"
   ]
  },
  {
   "cell_type": "code",
   "execution_count": 45,
   "id": "d80ef6c0-11e4-42e4-bc31-5273cd830aea",
   "metadata": {
    "tags": []
   },
   "outputs": [
    {
     "data": {
      "text/plain": [
       "3240"
      ]
     },
     "execution_count": 45,
     "metadata": {},
     "output_type": "execute_result"
    }
   ],
   "source": [
    "active_orders_data_3_m2= data_3.loc[data_3['orders'] > 0]\n",
    "number_active_data_3_m2= active_orders_data_3_m2['name'].count()\n",
    "number_active_data_3_m2"
   ]
  },
  {
   "cell_type": "code",
   "execution_count": 46,
   "id": "03db1602-2d8a-4584-91e3-e8c09bbeb6ea",
   "metadata": {
    "tags": []
   },
   "outputs": [
    {
     "name": "stdout",
     "output_type": "stream",
     "text": [
      "The number of active restaurants that are active (>0 orders per month) from our competitors in Month 2 is 3240 out of 3242 registered\n"
     ]
    }
   ],
   "source": [
    "print(f'The number of active restaurants that are active (>0 orders per month) from our competitors in Month 2 is {number_active_data_3_m2} out of {total_restaurants_data_3} registered') "
   ]
  },
  {
   "cell_type": "code",
   "execution_count": 47,
   "id": "5e5dd215-39e2-49b6-b74f-acfee255a855",
   "metadata": {
    "tags": []
   },
   "outputs": [],
   "source": [
    "data_2_name_zip= data_2[['name','zip']]"
   ]
  },
  {
   "cell_type": "code",
   "execution_count": 48,
   "id": "319c81cc-0912-44f5-a7ff-5acb2652765d",
   "metadata": {
    "tags": []
   },
   "outputs": [],
   "source": [
    "data_3_name_zip= data_3[['name','zip']]"
   ]
  },
  {
   "cell_type": "code",
   "execution_count": 49,
   "id": "478fb34f-1fd8-494d-8794-066cf0ebf8e7",
   "metadata": {
    "tags": []
   },
   "outputs": [
    {
     "data": {
      "text/html": [
       "<div>\n",
       "<style scoped>\n",
       "    .dataframe tbody tr th:only-of-type {\n",
       "        vertical-align: middle;\n",
       "    }\n",
       "\n",
       "    .dataframe tbody tr th {\n",
       "        vertical-align: top;\n",
       "    }\n",
       "\n",
       "    .dataframe thead th {\n",
       "        text-align: right;\n",
       "    }\n",
       "</style>\n",
       "<table border=\"1\" class=\"dataframe\">\n",
       "  <thead>\n",
       "    <tr style=\"text-align: right;\">\n",
       "      <th></th>\n",
       "      <th>name</th>\n",
       "      <th>zip</th>\n",
       "    </tr>\n",
       "  </thead>\n",
       "  <tbody>\n",
       "    <tr>\n",
       "      <th>0</th>\n",
       "      <td>False</td>\n",
       "      <td>False</td>\n",
       "    </tr>\n",
       "    <tr>\n",
       "      <th>1</th>\n",
       "      <td>False</td>\n",
       "      <td>False</td>\n",
       "    </tr>\n",
       "    <tr>\n",
       "      <th>2</th>\n",
       "      <td>False</td>\n",
       "      <td>False</td>\n",
       "    </tr>\n",
       "    <tr>\n",
       "      <th>3</th>\n",
       "      <td>False</td>\n",
       "      <td>False</td>\n",
       "    </tr>\n",
       "    <tr>\n",
       "      <th>4</th>\n",
       "      <td>False</td>\n",
       "      <td>False</td>\n",
       "    </tr>\n",
       "    <tr>\n",
       "      <th>...</th>\n",
       "      <td>...</td>\n",
       "      <td>...</td>\n",
       "    </tr>\n",
       "    <tr>\n",
       "      <th>3237</th>\n",
       "      <td>False</td>\n",
       "      <td>False</td>\n",
       "    </tr>\n",
       "    <tr>\n",
       "      <th>3238</th>\n",
       "      <td>False</td>\n",
       "      <td>False</td>\n",
       "    </tr>\n",
       "    <tr>\n",
       "      <th>3239</th>\n",
       "      <td>False</td>\n",
       "      <td>False</td>\n",
       "    </tr>\n",
       "    <tr>\n",
       "      <th>3240</th>\n",
       "      <td>False</td>\n",
       "      <td>False</td>\n",
       "    </tr>\n",
       "    <tr>\n",
       "      <th>3241</th>\n",
       "      <td>False</td>\n",
       "      <td>False</td>\n",
       "    </tr>\n",
       "  </tbody>\n",
       "</table>\n",
       "<p>3242 rows × 2 columns</p>\n",
       "</div>"
      ],
      "text/plain": [
       "       name    zip\n",
       "0     False  False\n",
       "1     False  False\n",
       "2     False  False\n",
       "3     False  False\n",
       "4     False  False\n",
       "...     ...    ...\n",
       "3237  False  False\n",
       "3238  False  False\n",
       "3239  False  False\n",
       "3240  False  False\n",
       "3241  False  False\n",
       "\n",
       "[3242 rows x 2 columns]"
      ]
     },
     "execution_count": 49,
     "metadata": {},
     "output_type": "execute_result"
    }
   ],
   "source": [
    "data_3_name_zip.isin(data_2_name_zip)"
   ]
  },
  {
   "cell_type": "markdown",
   "id": "31e1d83c-a31a-40b0-8389-1511716f8195",
   "metadata": {
    "tags": []
   },
   "source": [
    "## How much have the respective platforms grown?"
   ]
  },
  {
   "cell_type": "code",
   "execution_count": 50,
   "id": "d203eb50-9bec-4501-badb-86bdfa8b7d2e",
   "metadata": {
    "tags": []
   },
   "outputs": [
    {
     "name": "stdout",
     "output_type": "stream",
     "text": [
      "deliverando grew from month 1 to month 2: 2.59%\n"
     ]
    }
   ],
   "source": [
    "deliverando_growth= ((number_active_data_1_m2/number_active_data_1_m1)-1)*100\n",
    "\n",
    "print(f'deliverando grew from month 1 to month 2: {deliverando_growth.round(2)}%')"
   ]
  },
  {
   "cell_type": "code",
   "execution_count": 51,
   "id": "f037bf0d-d609-4b43-a503-d202c443e4bf",
   "metadata": {
    "tags": []
   },
   "outputs": [
    {
     "name": "stdout",
     "output_type": "stream",
     "text": [
      "Competitors grew from month 1 to month 2: 2.47%\n"
     ]
    }
   ],
   "source": [
    "competitors_growth= ((number_active_data_3_m2/number_active_data_2_m1)-1)*100\n",
    "\n",
    "print(f'Competitors grew from month 1 to month 2: {competitors_growth.round(2)}%')"
   ]
  },
  {
   "cell_type": "markdown",
   "id": "ba877b8f-0cbd-4cca-b534-6b015fde367f",
   "metadata": {
    "tags": []
   },
   "source": [
    "## 2. How many restaurants are exclusively online with our competitors and not available on deliverando?"
   ]
  },
  {
   "cell_type": "code",
   "execution_count": 52,
   "id": "b58fc6c9-de14-4f65-9a6c-503fda61d2d0",
   "metadata": {
    "tags": []
   },
   "outputs": [
    {
     "data": {
      "text/plain": [
       "309"
      ]
     },
     "execution_count": 52,
     "metadata": {},
     "output_type": "execute_result"
    }
   ],
   "source": [
    "exclusive_deliverando= data_1['name'].unique().tolist()\n",
    "len(exclusive_deliverando)"
   ]
  },
  {
   "cell_type": "code",
   "execution_count": 53,
   "id": "a31687d3-1336-4ea8-a5bb-1e9f4cf49210",
   "metadata": {
    "tags": []
   },
   "outputs": [],
   "source": [
    "competitors_restaurants= pd.concat([data_2['name'], data_3['name']]).to_frame()"
   ]
  },
  {
   "cell_type": "code",
   "execution_count": 54,
   "id": "f19d725a-1301-4f20-90b3-b6c0f0b528e8",
   "metadata": {
    "tags": []
   },
   "outputs": [
    {
     "data": {
      "text/plain": [
       "2932"
      ]
     },
     "execution_count": 54,
     "metadata": {},
     "output_type": "execute_result"
    }
   ],
   "source": [
    "exclusive_competitors= competitors_restaurants['name'].unique().tolist()\n",
    "len(exclusive_competitors)"
   ]
  },
  {
   "cell_type": "code",
   "execution_count": 55,
   "id": "4a405761-83e3-4f1a-830d-dca82a205bbc",
   "metadata": {
    "tags": []
   },
   "outputs": [],
   "source": [
    "not_on_deliverando= []\n",
    "\n",
    "for restaurant in exclusive_competitors:\n",
    "    if not restaurant in exclusive_deliverando:\n",
    "        not_on_deliverando.append(restaurant)"
   ]
  },
  {
   "cell_type": "code",
   "execution_count": 56,
   "id": "70e6d9b3-bc1e-420e-8970-c13894cec22f",
   "metadata": {
    "tags": []
   },
   "outputs": [
    {
     "data": {
      "text/plain": [
       "2726"
      ]
     },
     "execution_count": 56,
     "metadata": {},
     "output_type": "execute_result"
    }
   ],
   "source": [
    "len(not_on_deliverando)"
   ]
  },
  {
   "cell_type": "code",
   "execution_count": 57,
   "id": "18dc404b-e13b-462f-a6be-11bec47a3ff3",
   "metadata": {
    "tags": []
   },
   "outputs": [
    {
     "name": "stdout",
     "output_type": "stream",
     "text": [
      "There are 2726 exclusively online with our competitors and not available on deliverando\n"
     ]
    }
   ],
   "source": [
    "print(f'There are {len(not_on_deliverando)} exclusively online with our competitors and not available on deliverando')"
   ]
  },
  {
   "cell_type": "markdown",
   "id": "52c990e6-1bb6-4547-98d3-0604e5d9ec97",
   "metadata": {},
   "source": [
    "## 3.Which restaurants have placed the most orders with our competitors (top 10)?"
   ]
  },
  {
   "cell_type": "code",
   "execution_count": 58,
   "id": "d1f00fe1-2f1e-4bb5-8b81-e4086c24a678",
   "metadata": {},
   "outputs": [
    {
     "data": {
      "text/html": [
       "<div>\n",
       "<style scoped>\n",
       "    .dataframe tbody tr th:only-of-type {\n",
       "        vertical-align: middle;\n",
       "    }\n",
       "\n",
       "    .dataframe tbody tr th {\n",
       "        vertical-align: top;\n",
       "    }\n",
       "\n",
       "    .dataframe thead th {\n",
       "        text-align: right;\n",
       "    }\n",
       "</style>\n",
       "<table border=\"1\" class=\"dataframe\">\n",
       "  <thead>\n",
       "    <tr style=\"text-align: right;\">\n",
       "      <th></th>\n",
       "      <th>name</th>\n",
       "      <th>zip</th>\n",
       "      <th>kpi</th>\n",
       "      <th>Month 1</th>\n",
       "      <th>Month 2</th>\n",
       "      <th>delivery service</th>\n",
       "      <th>total_orders</th>\n",
       "    </tr>\n",
       "  </thead>\n",
       "  <tbody>\n",
       "    <tr>\n",
       "      <th>0</th>\n",
       "      <td>Mampf</td>\n",
       "      <td>8020</td>\n",
       "      <td># Commissionable Orders</td>\n",
       "      <td>699.0</td>\n",
       "      <td>822.00</td>\n",
       "      <td>deliverando</td>\n",
       "      <td>1521.00</td>\n",
       "    </tr>\n",
       "    <tr>\n",
       "      <th>1</th>\n",
       "      <td>Mampf</td>\n",
       "      <td>8020</td>\n",
       "      <td>Avg Basket Size €</td>\n",
       "      <td>22.5</td>\n",
       "      <td>23.33</td>\n",
       "      <td>deliverando</td>\n",
       "      <td>45.83</td>\n",
       "    </tr>\n",
       "    <tr>\n",
       "      <th>2</th>\n",
       "      <td>Mampf</td>\n",
       "      <td>8020</td>\n",
       "      <td># Negative Comments</td>\n",
       "      <td>3.0</td>\n",
       "      <td>4.00</td>\n",
       "      <td>deliverando</td>\n",
       "      <td>7.00</td>\n",
       "    </tr>\n",
       "    <tr>\n",
       "      <th>3</th>\n",
       "      <td>Mampf</td>\n",
       "      <td>8020</td>\n",
       "      <td># Positive Comments</td>\n",
       "      <td>1.0</td>\n",
       "      <td>1.00</td>\n",
       "      <td>deliverando</td>\n",
       "      <td>2.00</td>\n",
       "    </tr>\n",
       "    <tr>\n",
       "      <th>4</th>\n",
       "      <td>Mampf</td>\n",
       "      <td>8020</td>\n",
       "      <td>% Kill Rate</td>\n",
       "      <td>52.0</td>\n",
       "      <td>46.00</td>\n",
       "      <td>deliverando</td>\n",
       "      <td>98.00</td>\n",
       "    </tr>\n",
       "  </tbody>\n",
       "</table>\n",
       "</div>"
      ],
      "text/plain": [
       "    name   zip                      kpi  Month 1  Month 2 delivery service  \\\n",
       "0  Mampf  8020  # Commissionable Orders    699.0   822.00      deliverando   \n",
       "1  Mampf  8020        Avg Basket Size €     22.5    23.33      deliverando   \n",
       "2  Mampf  8020      # Negative Comments      3.0     4.00      deliverando   \n",
       "3  Mampf  8020      # Positive Comments      1.0     1.00      deliverando   \n",
       "4  Mampf  8020              % Kill Rate     52.0    46.00      deliverando   \n",
       "\n",
       "   total_orders  \n",
       "0       1521.00  \n",
       "1         45.83  \n",
       "2          7.00  \n",
       "3          2.00  \n",
       "4         98.00  "
      ]
     },
     "execution_count": 58,
     "metadata": {},
     "output_type": "execute_result"
    }
   ],
   "source": [
    "data_1['total_orders']= data_1['Month 1'] + data_1['Month 2']\n",
    "data_1.head()"
   ]
  },
  {
   "cell_type": "code",
   "execution_count": 59,
   "id": "18ab4389-c50c-40af-b33f-642f9b3227c2",
   "metadata": {},
   "outputs": [],
   "source": [
    "competitors_data= data_2.merge(data_3, how= 'inner', on= ['name','zip'])"
   ]
  },
  {
   "cell_type": "code",
   "execution_count": 60,
   "id": "06698da5-c8d1-4aa6-9d13-ad75e5804201",
   "metadata": {},
   "outputs": [],
   "source": [
    "competitors_data['total_orders']= competitors_data['orders_x'] + competitors_data['orders_y']"
   ]
  },
  {
   "cell_type": "code",
   "execution_count": 61,
   "id": "62d686ca-ebe2-4618-bd4f-21b1a243ac1d",
   "metadata": {
    "tags": []
   },
   "outputs": [
    {
     "data": {
      "text/html": [
       "<div>\n",
       "<style scoped>\n",
       "    .dataframe tbody tr th:only-of-type {\n",
       "        vertical-align: middle;\n",
       "    }\n",
       "\n",
       "    .dataframe tbody tr th {\n",
       "        vertical-align: top;\n",
       "    }\n",
       "\n",
       "    .dataframe thead th {\n",
       "        text-align: right;\n",
       "    }\n",
       "</style>\n",
       "<table border=\"1\" class=\"dataframe\">\n",
       "  <thead>\n",
       "    <tr style=\"text-align: right;\">\n",
       "      <th></th>\n",
       "      <th>name</th>\n",
       "      <th>zip</th>\n",
       "      <th>orders_x</th>\n",
       "      <th>month_x</th>\n",
       "      <th>delivery_service_x</th>\n",
       "      <th>orders_y</th>\n",
       "      <th>month_y</th>\n",
       "      <th>delivery_service_y</th>\n",
       "      <th>total_orders</th>\n",
       "    </tr>\n",
       "  </thead>\n",
       "  <tbody>\n",
       "    <tr>\n",
       "      <th>0</th>\n",
       "      <td>Chen's Cooking</td>\n",
       "      <td>1120</td>\n",
       "      <td>575</td>\n",
       "      <td>1</td>\n",
       "      <td>competition</td>\n",
       "      <td>426</td>\n",
       "      <td>2</td>\n",
       "      <td>competition</td>\n",
       "      <td>1001</td>\n",
       "    </tr>\n",
       "    <tr>\n",
       "      <th>1</th>\n",
       "      <td>Al Capone</td>\n",
       "      <td>4614</td>\n",
       "      <td>283</td>\n",
       "      <td>1</td>\n",
       "      <td>competition</td>\n",
       "      <td>151</td>\n",
       "      <td>2</td>\n",
       "      <td>competition</td>\n",
       "      <td>434</td>\n",
       "    </tr>\n",
       "    <tr>\n",
       "      <th>2</th>\n",
       "      <td>Schesch Besch</td>\n",
       "      <td>1010</td>\n",
       "      <td>43</td>\n",
       "      <td>1</td>\n",
       "      <td>competition</td>\n",
       "      <td>79</td>\n",
       "      <td>2</td>\n",
       "      <td>competition</td>\n",
       "      <td>122</td>\n",
       "    </tr>\n",
       "    <tr>\n",
       "      <th>3</th>\n",
       "      <td>Gasthaus Bergwirt</td>\n",
       "      <td>4053</td>\n",
       "      <td>1054</td>\n",
       "      <td>1</td>\n",
       "      <td>competition</td>\n",
       "      <td>1048</td>\n",
       "      <td>2</td>\n",
       "      <td>competition</td>\n",
       "      <td>2102</td>\n",
       "    </tr>\n",
       "    <tr>\n",
       "      <th>4</th>\n",
       "      <td>Kebap &amp; Pizza Antalya</td>\n",
       "      <td>9020</td>\n",
       "      <td>168</td>\n",
       "      <td>1</td>\n",
       "      <td>competition</td>\n",
       "      <td>156</td>\n",
       "      <td>2</td>\n",
       "      <td>competition</td>\n",
       "      <td>324</td>\n",
       "    </tr>\n",
       "  </tbody>\n",
       "</table>\n",
       "</div>"
      ],
      "text/plain": [
       "                    name   zip  orders_x  month_x delivery_service_x  \\\n",
       "0         Chen's Cooking  1120       575        1        competition   \n",
       "1              Al Capone  4614       283        1        competition   \n",
       "2          Schesch Besch  1010        43        1        competition   \n",
       "3      Gasthaus Bergwirt  4053      1054        1        competition   \n",
       "4  Kebap & Pizza Antalya  9020       168        1        competition   \n",
       "\n",
       "   orders_y  month_y delivery_service_y  total_orders  \n",
       "0       426        2        competition          1001  \n",
       "1       151        2        competition           434  \n",
       "2        79        2        competition           122  \n",
       "3      1048        2        competition          2102  \n",
       "4       156        2        competition           324  "
      ]
     },
     "execution_count": 61,
     "metadata": {},
     "output_type": "execute_result"
    }
   ],
   "source": [
    "competitors_data.head()"
   ]
  },
  {
   "cell_type": "code",
   "execution_count": 62,
   "id": "e02d6b55-6644-4cca-9d97-bf431ba49b86",
   "metadata": {
    "tags": []
   },
   "outputs": [
    {
     "data": {
      "text/html": [
       "<div>\n",
       "<style scoped>\n",
       "    .dataframe tbody tr th:only-of-type {\n",
       "        vertical-align: middle;\n",
       "    }\n",
       "\n",
       "    .dataframe tbody tr th {\n",
       "        vertical-align: top;\n",
       "    }\n",
       "\n",
       "    .dataframe thead th {\n",
       "        text-align: right;\n",
       "    }\n",
       "</style>\n",
       "<table border=\"1\" class=\"dataframe\">\n",
       "  <thead>\n",
       "    <tr style=\"text-align: right;\">\n",
       "      <th></th>\n",
       "      <th>name</th>\n",
       "      <th>zip</th>\n",
       "      <th>orders_x</th>\n",
       "      <th>month_x</th>\n",
       "      <th>delivery_service_x</th>\n",
       "      <th>orders_y</th>\n",
       "      <th>month_y</th>\n",
       "      <th>delivery_service_y</th>\n",
       "      <th>total_orders</th>\n",
       "    </tr>\n",
       "  </thead>\n",
       "  <tbody>\n",
       "    <tr>\n",
       "      <th>2396</th>\n",
       "      <td>Pizzeria Peperoni &amp; Getränke</td>\n",
       "      <td>1050</td>\n",
       "      <td>4156</td>\n",
       "      <td>1</td>\n",
       "      <td>competition</td>\n",
       "      <td>4131</td>\n",
       "      <td>2</td>\n",
       "      <td>competition</td>\n",
       "      <td>8287</td>\n",
       "    </tr>\n",
       "    <tr>\n",
       "      <th>1991</th>\n",
       "      <td>Mr. Schnitzel &amp; Burger</td>\n",
       "      <td>1150</td>\n",
       "      <td>3891</td>\n",
       "      <td>1</td>\n",
       "      <td>competition</td>\n",
       "      <td>2196</td>\n",
       "      <td>2</td>\n",
       "      <td>competition</td>\n",
       "      <td>6087</td>\n",
       "    </tr>\n",
       "    <tr>\n",
       "      <th>658</th>\n",
       "      <td>Pizzeria da Corrado</td>\n",
       "      <td>1140</td>\n",
       "      <td>3523</td>\n",
       "      <td>1</td>\n",
       "      <td>competition</td>\n",
       "      <td>2039</td>\n",
       "      <td>2</td>\n",
       "      <td>competition</td>\n",
       "      <td>5562</td>\n",
       "    </tr>\n",
       "    <tr>\n",
       "      <th>1973</th>\n",
       "      <td>Sisi Pizzaboy</td>\n",
       "      <td>1190</td>\n",
       "      <td>2726</td>\n",
       "      <td>1</td>\n",
       "      <td>competition</td>\n",
       "      <td>2046</td>\n",
       "      <td>2</td>\n",
       "      <td>competition</td>\n",
       "      <td>4772</td>\n",
       "    </tr>\n",
       "    <tr>\n",
       "      <th>639</th>\n",
       "      <td>Sternberg</td>\n",
       "      <td>1220</td>\n",
       "      <td>2609</td>\n",
       "      <td>1</td>\n",
       "      <td>competition</td>\n",
       "      <td>2084</td>\n",
       "      <td>2</td>\n",
       "      <td>competition</td>\n",
       "      <td>4693</td>\n",
       "    </tr>\n",
       "    <tr>\n",
       "      <th>...</th>\n",
       "      <td>...</td>\n",
       "      <td>...</td>\n",
       "      <td>...</td>\n",
       "      <td>...</td>\n",
       "      <td>...</td>\n",
       "      <td>...</td>\n",
       "      <td>...</td>\n",
       "      <td>...</td>\n",
       "      <td>...</td>\n",
       "    </tr>\n",
       "    <tr>\n",
       "      <th>325</th>\n",
       "      <td>Ristorante Don Giovanni</td>\n",
       "      <td>1040</td>\n",
       "      <td>0</td>\n",
       "      <td>1</td>\n",
       "      <td>competition</td>\n",
       "      <td>5</td>\n",
       "      <td>2</td>\n",
       "      <td>competition</td>\n",
       "      <td>5</td>\n",
       "    </tr>\n",
       "    <tr>\n",
       "      <th>790</th>\n",
       "      <td>Pizzeria Torino</td>\n",
       "      <td>2500</td>\n",
       "      <td>2</td>\n",
       "      <td>1</td>\n",
       "      <td>competition</td>\n",
       "      <td>2</td>\n",
       "      <td>2</td>\n",
       "      <td>competition</td>\n",
       "      <td>4</td>\n",
       "    </tr>\n",
       "    <tr>\n",
       "      <th>2823</th>\n",
       "      <td>Schile</td>\n",
       "      <td>1060</td>\n",
       "      <td>0</td>\n",
       "      <td>1</td>\n",
       "      <td>competition</td>\n",
       "      <td>4</td>\n",
       "      <td>2</td>\n",
       "      <td>competition</td>\n",
       "      <td>4</td>\n",
       "    </tr>\n",
       "    <tr>\n",
       "      <th>77</th>\n",
       "      <td>Tasties</td>\n",
       "      <td>6020</td>\n",
       "      <td>1</td>\n",
       "      <td>1</td>\n",
       "      <td>competition</td>\n",
       "      <td>3</td>\n",
       "      <td>2</td>\n",
       "      <td>competition</td>\n",
       "      <td>4</td>\n",
       "    </tr>\n",
       "    <tr>\n",
       "      <th>75</th>\n",
       "      <td>Tasties</td>\n",
       "      <td>6020</td>\n",
       "      <td>1</td>\n",
       "      <td>1</td>\n",
       "      <td>competition</td>\n",
       "      <td>3</td>\n",
       "      <td>2</td>\n",
       "      <td>competition</td>\n",
       "      <td>4</td>\n",
       "    </tr>\n",
       "  </tbody>\n",
       "</table>\n",
       "<p>3306 rows × 9 columns</p>\n",
       "</div>"
      ],
      "text/plain": [
       "                              name   zip  orders_x  month_x  \\\n",
       "2396  Pizzeria Peperoni & Getränke  1050      4156        1   \n",
       "1991        Mr. Schnitzel & Burger  1150      3891        1   \n",
       "658            Pizzeria da Corrado  1140      3523        1   \n",
       "1973                 Sisi Pizzaboy  1190      2726        1   \n",
       "639                      Sternberg  1220      2609        1   \n",
       "...                            ...   ...       ...      ...   \n",
       "325        Ristorante Don Giovanni  1040         0        1   \n",
       "790                Pizzeria Torino  2500         2        1   \n",
       "2823                        Schile  1060         0        1   \n",
       "77                         Tasties  6020         1        1   \n",
       "75                         Tasties  6020         1        1   \n",
       "\n",
       "     delivery_service_x  orders_y  month_y delivery_service_y  total_orders  \n",
       "2396        competition      4131        2        competition          8287  \n",
       "1991        competition      2196        2        competition          6087  \n",
       "658         competition      2039        2        competition          5562  \n",
       "1973        competition      2046        2        competition          4772  \n",
       "639         competition      2084        2        competition          4693  \n",
       "...                 ...       ...      ...                ...           ...  \n",
       "325         competition         5        2        competition             5  \n",
       "790         competition         2        2        competition             4  \n",
       "2823        competition         4        2        competition             4  \n",
       "77          competition         3        2        competition             4  \n",
       "75          competition         3        2        competition             4  \n",
       "\n",
       "[3306 rows x 9 columns]"
      ]
     },
     "execution_count": 62,
     "metadata": {},
     "output_type": "execute_result"
    }
   ],
   "source": [
    "competitors_data = competitors_data.sort_values(by=['total_orders'], ascending= False)\n",
    "competitors_data"
   ]
  },
  {
   "cell_type": "code",
   "execution_count": 63,
   "id": "58c0e85e-634a-4725-9cb9-5123a224e27b",
   "metadata": {},
   "outputs": [],
   "source": [
    "top_10_competitors= competitors_data.sort_values(by=['total_orders'], ascending= False).head(10)"
   ]
  },
  {
   "cell_type": "code",
   "execution_count": 64,
   "id": "2f501f4a-702a-4065-98dd-563ad991a474",
   "metadata": {
    "tags": []
   },
   "outputs": [
    {
     "data": {
      "text/plain": [
       "['Pizzeria Peperoni & Getränke',\n",
       " 'Mr. Schnitzel & Burger',\n",
       " 'Pizzeria da Corrado',\n",
       " 'Sisi Pizzaboy',\n",
       " 'Sternberg',\n",
       " 'Mille Stelle',\n",
       " 'Pizzeria Ristorante Napolitana',\n",
       " 'Pizzeria Hausleitner',\n",
       " 'Neun Kebab',\n",
       " 'La Mare']"
      ]
     },
     "execution_count": 64,
     "metadata": {},
     "output_type": "execute_result"
    }
   ],
   "source": [
    "top_10_competitors['name'].to_list()"
   ]
  },
  {
   "cell_type": "code",
   "execution_count": 65,
   "id": "143e944f-2141-425f-a10c-5cbb781df089",
   "metadata": {
    "tags": []
   },
   "outputs": [
    {
     "name": "stdout",
     "output_type": "stream",
     "text": [
      "The top ten restaurants by orders with our competitors are: ['Pizzeria Peperoni & Getränke', 'Mr. Schnitzel & Burger', 'Pizzeria da Corrado', 'Sisi Pizzaboy', 'Sternberg', 'Mille Stelle', 'Pizzeria Ristorante Napolitana', 'Pizzeria Hausleitner', 'Neun Kebab', 'La Mare']\n"
     ]
    }
   ],
   "source": [
    "print('The top ten restaurants by orders with our competitors are:', top_10_competitors['name'].to_list())"
   ]
  },
  {
   "cell_type": "code",
   "execution_count": 66,
   "id": "e5059871-3af6-4dc3-84fc-7934eb9523cf",
   "metadata": {},
   "outputs": [
    {
     "data": {
      "text/html": [
       "<div>\n",
       "<style scoped>\n",
       "    .dataframe tbody tr th:only-of-type {\n",
       "        vertical-align: middle;\n",
       "    }\n",
       "\n",
       "    .dataframe tbody tr th {\n",
       "        vertical-align: top;\n",
       "    }\n",
       "\n",
       "    .dataframe thead th {\n",
       "        text-align: right;\n",
       "    }\n",
       "</style>\n",
       "<table border=\"1\" class=\"dataframe\">\n",
       "  <thead>\n",
       "    <tr style=\"text-align: right;\">\n",
       "      <th></th>\n",
       "      <th>name</th>\n",
       "      <th>zip</th>\n",
       "      <th>kpi</th>\n",
       "      <th>Month 1</th>\n",
       "      <th>Month 2</th>\n",
       "      <th>delivery service</th>\n",
       "      <th>total_orders</th>\n",
       "    </tr>\n",
       "  </thead>\n",
       "  <tbody>\n",
       "    <tr>\n",
       "      <th>0</th>\n",
       "      <td>Mampf</td>\n",
       "      <td>8020</td>\n",
       "      <td># Commissionable Orders</td>\n",
       "      <td>699.0</td>\n",
       "      <td>822.0</td>\n",
       "      <td>deliverando</td>\n",
       "      <td>1521.0</td>\n",
       "    </tr>\n",
       "    <tr>\n",
       "      <th>6</th>\n",
       "      <td>Dolce Vita</td>\n",
       "      <td>8020</td>\n",
       "      <td># Commissionable Orders</td>\n",
       "      <td>1178.0</td>\n",
       "      <td>1353.0</td>\n",
       "      <td>deliverando</td>\n",
       "      <td>2531.0</td>\n",
       "    </tr>\n",
       "    <tr>\n",
       "      <th>12</th>\n",
       "      <td>China Restaurant Mond</td>\n",
       "      <td>8010</td>\n",
       "      <td># Commissionable Orders</td>\n",
       "      <td>230.0</td>\n",
       "      <td>375.0</td>\n",
       "      <td>deliverando</td>\n",
       "      <td>605.0</td>\n",
       "    </tr>\n",
       "    <tr>\n",
       "      <th>18</th>\n",
       "      <td>Royal</td>\n",
       "      <td>8020</td>\n",
       "      <td># Commissionable Orders</td>\n",
       "      <td>692.0</td>\n",
       "      <td>734.0</td>\n",
       "      <td>deliverando</td>\n",
       "      <td>1426.0</td>\n",
       "    </tr>\n",
       "    <tr>\n",
       "      <th>24</th>\n",
       "      <td>Xpress</td>\n",
       "      <td>8020</td>\n",
       "      <td># Commissionable Orders</td>\n",
       "      <td>365.0</td>\n",
       "      <td>410.0</td>\n",
       "      <td>deliverando</td>\n",
       "      <td>775.0</td>\n",
       "    </tr>\n",
       "    <tr>\n",
       "      <th>...</th>\n",
       "      <td>...</td>\n",
       "      <td>...</td>\n",
       "      <td>...</td>\n",
       "      <td>...</td>\n",
       "      <td>...</td>\n",
       "      <td>...</td>\n",
       "      <td>...</td>\n",
       "    </tr>\n",
       "    <tr>\n",
       "      <th>1633</th>\n",
       "      <td>Gasthof zum Bayernbrunnen</td>\n",
       "      <td>8020</td>\n",
       "      <td># Commissionable Orders</td>\n",
       "      <td>0.0</td>\n",
       "      <td>0.0</td>\n",
       "      <td>deliverando</td>\n",
       "      <td>0.0</td>\n",
       "    </tr>\n",
       "    <tr>\n",
       "      <th>1636</th>\n",
       "      <td>Ucco's</td>\n",
       "      <td>8010</td>\n",
       "      <td># Commissionable Orders</td>\n",
       "      <td>0.0</td>\n",
       "      <td>0.0</td>\n",
       "      <td>deliverando</td>\n",
       "      <td>0.0</td>\n",
       "    </tr>\n",
       "    <tr>\n",
       "      <th>1639</th>\n",
       "      <td>Wir:zhaus</td>\n",
       "      <td>8020</td>\n",
       "      <td># Commissionable Orders</td>\n",
       "      <td>0.0</td>\n",
       "      <td>0.0</td>\n",
       "      <td>deliverando</td>\n",
       "      <td>0.0</td>\n",
       "    </tr>\n",
       "    <tr>\n",
       "      <th>1642</th>\n",
       "      <td>Namaste Nepal Restaurant</td>\n",
       "      <td>8010</td>\n",
       "      <td># Commissionable Orders</td>\n",
       "      <td>0.0</td>\n",
       "      <td>0.0</td>\n",
       "      <td>deliverando</td>\n",
       "      <td>0.0</td>\n",
       "    </tr>\n",
       "    <tr>\n",
       "      <th>1645</th>\n",
       "      <td>Easy Asia</td>\n",
       "      <td>8020</td>\n",
       "      <td># Commissionable Orders</td>\n",
       "      <td>0.0</td>\n",
       "      <td>0.0</td>\n",
       "      <td>deliverando</td>\n",
       "      <td>0.0</td>\n",
       "    </tr>\n",
       "  </tbody>\n",
       "</table>\n",
       "<p>335 rows × 7 columns</p>\n",
       "</div>"
      ],
      "text/plain": [
       "                           name   zip                      kpi  Month 1  \\\n",
       "0                         Mampf  8020  # Commissionable Orders    699.0   \n",
       "6                    Dolce Vita  8020  # Commissionable Orders   1178.0   \n",
       "12        China Restaurant Mond  8010  # Commissionable Orders    230.0   \n",
       "18                        Royal  8020  # Commissionable Orders    692.0   \n",
       "24                       Xpress  8020  # Commissionable Orders    365.0   \n",
       "...                         ...   ...                      ...      ...   \n",
       "1633  Gasthof zum Bayernbrunnen  8020  # Commissionable Orders      0.0   \n",
       "1636                     Ucco's  8010  # Commissionable Orders      0.0   \n",
       "1639                  Wir:zhaus  8020  # Commissionable Orders      0.0   \n",
       "1642   Namaste Nepal Restaurant  8010  # Commissionable Orders      0.0   \n",
       "1645                  Easy Asia  8020  # Commissionable Orders      0.0   \n",
       "\n",
       "      Month 2 delivery service  total_orders  \n",
       "0       822.0      deliverando        1521.0  \n",
       "6      1353.0      deliverando        2531.0  \n",
       "12      375.0      deliverando         605.0  \n",
       "18      734.0      deliverando        1426.0  \n",
       "24      410.0      deliverando         775.0  \n",
       "...       ...              ...           ...  \n",
       "1633      0.0      deliverando           0.0  \n",
       "1636      0.0      deliverando           0.0  \n",
       "1639      0.0      deliverando           0.0  \n",
       "1642      0.0      deliverando           0.0  \n",
       "1645      0.0      deliverando           0.0  \n",
       "\n",
       "[335 rows x 7 columns]"
      ]
     },
     "execution_count": 66,
     "metadata": {},
     "output_type": "execute_result"
    }
   ],
   "source": [
    "data_1_orders"
   ]
  },
  {
   "cell_type": "code",
   "execution_count": 67,
   "id": "a0f13068-cae6-42af-8043-08531fc1cdf0",
   "metadata": {
    "tags": []
   },
   "outputs": [],
   "source": [
    "data_1_orders_raking= data_1_orders.sort_values(by=['total_orders'], ascending= False)\n",
    "data_1_orders_raking= data_1_orders_raking.astype({'total_orders': int },copy=False)"
   ]
  },
  {
   "cell_type": "markdown",
   "id": "7ae3009e-a8c0-4884-a404-a821867f1ec1",
   "metadata": {},
   "source": [
    "## Are these restaurants also active on deliverando and if so, how did the orders on the deliverando platform compare to the performance on the competitor platform?"
   ]
  },
  {
   "cell_type": "code",
   "execution_count": 68,
   "id": "a804c8c1-87e6-47da-a28e-2631cbd4c6a6",
   "metadata": {},
   "outputs": [],
   "source": [
    "top_10_competitors_name_zip= top_10_competitors[['name','zip']]"
   ]
  },
  {
   "cell_type": "code",
   "execution_count": 69,
   "id": "92c5335c-2efb-4fc8-badd-df98a0701ab5",
   "metadata": {},
   "outputs": [],
   "source": [
    "deliverando_name_zip= data_1_orders[['name','zip']]"
   ]
  },
  {
   "cell_type": "code",
   "execution_count": 70,
   "id": "c59cd7f3-ce78-430e-be79-2a88b995646a",
   "metadata": {},
   "outputs": [
    {
     "data": {
      "text/html": [
       "<div>\n",
       "<style scoped>\n",
       "    .dataframe tbody tr th:only-of-type {\n",
       "        vertical-align: middle;\n",
       "    }\n",
       "\n",
       "    .dataframe tbody tr th {\n",
       "        vertical-align: top;\n",
       "    }\n",
       "\n",
       "    .dataframe thead th {\n",
       "        text-align: right;\n",
       "    }\n",
       "</style>\n",
       "<table border=\"1\" class=\"dataframe\">\n",
       "  <thead>\n",
       "    <tr style=\"text-align: right;\">\n",
       "      <th></th>\n",
       "      <th>name</th>\n",
       "      <th>zip</th>\n",
       "    </tr>\n",
       "  </thead>\n",
       "  <tbody>\n",
       "    <tr>\n",
       "      <th>2396</th>\n",
       "      <td>False</td>\n",
       "      <td>False</td>\n",
       "    </tr>\n",
       "    <tr>\n",
       "      <th>1991</th>\n",
       "      <td>False</td>\n",
       "      <td>False</td>\n",
       "    </tr>\n",
       "    <tr>\n",
       "      <th>658</th>\n",
       "      <td>False</td>\n",
       "      <td>False</td>\n",
       "    </tr>\n",
       "    <tr>\n",
       "      <th>1973</th>\n",
       "      <td>False</td>\n",
       "      <td>False</td>\n",
       "    </tr>\n",
       "    <tr>\n",
       "      <th>639</th>\n",
       "      <td>False</td>\n",
       "      <td>False</td>\n",
       "    </tr>\n",
       "    <tr>\n",
       "      <th>322</th>\n",
       "      <td>False</td>\n",
       "      <td>False</td>\n",
       "    </tr>\n",
       "    <tr>\n",
       "      <th>42</th>\n",
       "      <td>False</td>\n",
       "      <td>False</td>\n",
       "    </tr>\n",
       "    <tr>\n",
       "      <th>2902</th>\n",
       "      <td>False</td>\n",
       "      <td>False</td>\n",
       "    </tr>\n",
       "    <tr>\n",
       "      <th>2759</th>\n",
       "      <td>False</td>\n",
       "      <td>False</td>\n",
       "    </tr>\n",
       "    <tr>\n",
       "      <th>3135</th>\n",
       "      <td>False</td>\n",
       "      <td>False</td>\n",
       "    </tr>\n",
       "  </tbody>\n",
       "</table>\n",
       "</div>"
      ],
      "text/plain": [
       "       name    zip\n",
       "2396  False  False\n",
       "1991  False  False\n",
       "658   False  False\n",
       "1973  False  False\n",
       "639   False  False\n",
       "322   False  False\n",
       "42    False  False\n",
       "2902  False  False\n",
       "2759  False  False\n",
       "3135  False  False"
      ]
     },
     "execution_count": 70,
     "metadata": {},
     "output_type": "execute_result"
    }
   ],
   "source": [
    "top_10_competitors_name_zip.isin(deliverando_name_zip)"
   ]
  },
  {
   "cell_type": "markdown",
   "id": "77b6dad2-44e7-465f-8593-a4ced3f42ede",
   "metadata": {},
   "source": [
    "##### The restaurants (equal name and zip code) from the TOP 10 compatitors are not on deliverando's pool of restaurants."
   ]
  },
  {
   "cell_type": "code",
   "execution_count": 71,
   "id": "285d0578-eff7-4333-98d0-4ad5acc5eb73",
   "metadata": {},
   "outputs": [],
   "source": [
    "top_10_competitors_name= top_10_competitors['name']"
   ]
  },
  {
   "cell_type": "code",
   "execution_count": 72,
   "id": "363078b5-14df-4c66-8c7c-02eb3eda12ac",
   "metadata": {
    "tags": []
   },
   "outputs": [],
   "source": [
    "deliverando_name= data_1_orders['name']"
   ]
  },
  {
   "cell_type": "code",
   "execution_count": 73,
   "id": "56ecb643-b7bb-40a0-9e5e-9cdc25a3d02e",
   "metadata": {
    "tags": []
   },
   "outputs": [
    {
     "data": {
      "text/plain": [
       "2396    False\n",
       "1991    False\n",
       "658     False\n",
       "1973    False\n",
       "639     False\n",
       "322     False\n",
       "42      False\n",
       "2902    False\n",
       "2759    False\n",
       "3135    False\n",
       "Name: name, dtype: bool"
      ]
     },
     "execution_count": 73,
     "metadata": {},
     "output_type": "execute_result"
    }
   ],
   "source": [
    "top_10_competitors_name.isin(deliverando_name)"
   ]
  },
  {
   "cell_type": "markdown",
   "id": "2d96fba3-37a3-44ac-a191-de7d4eb1daca",
   "metadata": {},
   "source": [
    "##### The restaurants (equal name) from the TOP 10 compatitors are not on deliverando."
   ]
  },
  {
   "cell_type": "code",
   "execution_count": 74,
   "id": "fe0fd343-f909-401b-934f-d5abbe2d1953",
   "metadata": {},
   "outputs": [
    {
     "data": {
      "text/plain": [
       "array(['# Commissionable Orders', 'Avg Basket Size €',\n",
       "       '# Negative Comments', '# Positive Comments', '% Kill Rate',\n",
       "       'Avg Time to Accept (s)'], dtype=object)"
      ]
     },
     "execution_count": 74,
     "metadata": {},
     "output_type": "execute_result"
    }
   ],
   "source": [
    "data_1['kpi'].unique()"
   ]
  }
 ],
 "metadata": {
  "kernelspec": {
   "display_name": "Python 3 (ipykernel)",
   "language": "python",
   "name": "python3"
  },
  "language_info": {
   "codemirror_mode": {
    "name": "ipython",
    "version": 3
   },
   "file_extension": ".py",
   "mimetype": "text/x-python",
   "name": "python",
   "nbconvert_exporter": "python",
   "pygments_lexer": "ipython3",
   "version": "3.9.12"
  }
 },
 "nbformat": 4,
 "nbformat_minor": 5
}
